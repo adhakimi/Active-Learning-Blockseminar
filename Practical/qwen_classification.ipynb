{
 "cells": [
  {
   "cell_type": "markdown",
   "metadata": {},
   "source": [
    "## Import libraries"
   ]
  },
  {
   "cell_type": "code",
   "execution_count": 1,
   "metadata": {},
   "outputs": [],
   "source": [
    "import torch\n",
    "from transformers import AutoTokenizer, AutoModelForCausalLM\n",
    "from datasets import load_dataset\n",
    "import numpy as np\n",
    "from sklearn.metrics import accuracy_score, classification_report, confusion_matrix\n",
    "import pandas as pd\n",
    "import matplotlib.pyplot as plt\n",
    "import seaborn as sns\n",
    "import time\n",
    "from tqdm import tqdm\n",
    "import warnings\n",
    "warnings.filterwarnings('ignore')"
   ]
  },
  {
   "cell_type": "markdown",
   "metadata": {},
   "source": [
    "## Check GPU availability and setup"
   ]
  },
  {
   "cell_type": "code",
   "execution_count": 2,
   "metadata": {},
   "outputs": [
    {
     "name": "stdout",
     "output_type": "stream",
     "text": [
      "Using device: cuda\n",
      "GPU: NVIDIA RTX A6000\n",
      "CUDA Version: 12.6\n",
      "Loading IMDB dataset...\n",
      "Train samples: 25000\n",
      "Test samples: 25000\n",
      "\n",
      "Sample movie reviews:\n",
      "\n",
      "Review 1 (Negative):\n",
      "I love sci-fi and am willing to put up with a lot. Sci-fi movies/TV are usually underfunded, under-appreciated and misunderstood. I tried to like this, I really did, but it is to good TV sci-fi as Babylon 5 is to Star Trek (the original). Silly prosthetics, cheap cardboard sets, stilted dialogues, C...\n",
      "--------------------------------------------------------------------------------\n",
      "\n",
      "Review 2 (Negative):\n",
      "Worth the entertainment value of a rental, especially if you like action movies. This one features the usual car chases, fights with the great Van Damme kick style, shooting battles with the 40 shell load shotgun, and even terrorist style bombs. All of this is entertaining and competently handled bu...\n",
      "--------------------------------------------------------------------------------\n",
      "\n",
      "Review 3 (Negative):\n",
      "its a totally average film with a few semi-alright action sequences that make the plot seem a little better and remind the viewer of the classic van dam films. parts of the plot don't make sense and seem to be added in to use up time. the end plot is that of a very basic type that doesn't leave the ...\n",
      "--------------------------------------------------------------------------------\n"
     ]
    }
   ],
   "source": [
    "device = torch.device(\"cuda\" if torch.cuda.is_available() else \"cpu\")\n",
    "print(f\"Using device: {device}\")\n",
    "if torch.cuda.is_available():\n",
    "    print(f\"GPU: {torch.cuda.get_device_name(0)}\")\n",
    "    print(f\"CUDA Version: {torch.version.cuda}\")\n",
    "\n",
    "# Cell 4: Load the IMDB dataset\n",
    "print(\"Loading IMDB dataset...\")\n",
    "dataset = load_dataset(\"imdb\")\n",
    "print(f\"Train samples: {len(dataset['train'])}\")\n",
    "print(f\"Test samples: {len(dataset['test'])}\")\n",
    "\n",
    "# Display sample data\n",
    "print(\"\\nSample movie reviews:\")\n",
    "for i in range(3):\n",
    "    label_text = 'Positive' if dataset['test'][i]['label'] == 1 else 'Negative'\n",
    "    print(f\"\\nReview {i+1} ({label_text}):\")\n",
    "    print(f\"{dataset['test'][i]['text'][:300]}...\")\n",
    "    print(\"-\" * 80)"
   ]
  },
  {
   "cell_type": "code",
   "execution_count": 4,
   "metadata": {},
   "outputs": [
    {
     "name": "stdout",
     "output_type": "stream",
     "text": [
      "Loading model: Qwen/Qwen2.5-7B-Instruct\n",
      "The history saving thread hit an unexpected error (OperationalError('disk I/O error')).History will not be written to the database.\n"
     ]
    },
    {
     "data": {
      "application/vnd.jupyter.widget-view+json": {
       "model_id": "0515dbef863446739dfae09f80fedf10",
       "version_major": 2,
       "version_minor": 0
      },
      "text/plain": [
       "config.json:   0%|          | 0.00/663 [00:00<?, ?B/s]"
      ]
     },
     "metadata": {},
     "output_type": "display_data"
    },
    {
     "data": {
      "application/vnd.jupyter.widget-view+json": {
       "model_id": "39eb36734e344b5a9cea61e8d743babf",
       "version_major": 2,
       "version_minor": 0
      },
      "text/plain": [
       "model.safetensors.index.json: 0.00B [00:00, ?B/s]"
      ]
     },
     "metadata": {},
     "output_type": "display_data"
    },
    {
     "data": {
      "application/vnd.jupyter.widget-view+json": {
       "model_id": "a1ebba77a99e44e69ead49f2d63a30f7",
       "version_major": 2,
       "version_minor": 0
      },
      "text/plain": [
       "Fetching 4 files:   0%|          | 0/4 [00:00<?, ?it/s]"
      ]
     },
     "metadata": {},
     "output_type": "display_data"
    },
    {
     "data": {
      "application/vnd.jupyter.widget-view+json": {
       "model_id": "3d306e6d1ad94fe48fd57e4116e38db9",
       "version_major": 2,
       "version_minor": 0
      },
      "text/plain": [
       "model-00003-of-00004.safetensors:   0%|          | 0.00/3.86G [00:00<?, ?B/s]"
      ]
     },
     "metadata": {},
     "output_type": "display_data"
    },
    {
     "data": {
      "application/vnd.jupyter.widget-view+json": {
       "model_id": "45340170ec8745178e297831c8e1fb31",
       "version_major": 2,
       "version_minor": 0
      },
      "text/plain": [
       "model-00001-of-00004.safetensors:   0%|          | 0.00/3.95G [00:00<?, ?B/s]"
      ]
     },
     "metadata": {},
     "output_type": "display_data"
    },
    {
     "data": {
      "application/vnd.jupyter.widget-view+json": {
       "model_id": "381d18988ff14ac0bd2be58e2c35d42e",
       "version_major": 2,
       "version_minor": 0
      },
      "text/plain": [
       "model-00002-of-00004.safetensors:   0%|          | 0.00/3.86G [00:00<?, ?B/s]"
      ]
     },
     "metadata": {},
     "output_type": "display_data"
    },
    {
     "data": {
      "application/vnd.jupyter.widget-view+json": {
       "model_id": "19e238d18c484d73b54c34f8555e982c",
       "version_major": 2,
       "version_minor": 0
      },
      "text/plain": [
       "model-00004-of-00004.safetensors:   0%|          | 0.00/3.56G [00:00<?, ?B/s]"
      ]
     },
     "metadata": {},
     "output_type": "display_data"
    },
    {
     "data": {
      "application/vnd.jupyter.widget-view+json": {
       "model_id": "e0e6b023e0a14cc290405d1a6955c645",
       "version_major": 2,
       "version_minor": 0
      },
      "text/plain": [
       "Loading checkpoint shards:   0%|          | 0/4 [00:00<?, ?it/s]"
      ]
     },
     "metadata": {},
     "output_type": "display_data"
    },
    {
     "data": {
      "application/vnd.jupyter.widget-view+json": {
       "model_id": "4b108ba53fd348cca56d6718ef6da7b1",
       "version_major": 2,
       "version_minor": 0
      },
      "text/plain": [
       "generation_config.json:   0%|          | 0.00/243 [00:00<?, ?B/s]"
      ]
     },
     "metadata": {},
     "output_type": "display_data"
    },
    {
     "name": "stdout",
     "output_type": "stream",
     "text": [
      "Model loaded successfully!\n",
      "Tokenizer vocab size: 151,643\n",
      "Model parameters: 7,615,616,512\n"
     ]
    }
   ],
   "source": [
    "model_name = \"Qwen/Qwen2.5-7B-Instruct\"\n",
    "print(f\"Loading model: {model_name}\")\n",
    "\n",
    "tokenizer = AutoTokenizer.from_pretrained(model_name)\n",
    "model = AutoModelForCausalLM.from_pretrained(\n",
    "    model_name,\n",
    "    cache_dir=\"/nfs/datz/olmo_models/al_exp\",\n",
    "    torch_dtype=torch.float16 if torch.cuda.is_available() else torch.float32,\n",
    "    device_map=\"auto\" if torch.cuda.is_available() else None\n",
    ")\n",
    "\n",
    "# Add padding token if it doesn't exist\n",
    "if tokenizer.pad_token is None:\n",
    "    tokenizer.pad_token = tokenizer.eos_token\n",
    "\n",
    "print(f\"Model loaded successfully!\")\n",
    "print(f\"Tokenizer vocab size: {tokenizer.vocab_size:,}\")\n",
    "print(f\"Model parameters: {model.num_parameters():,}\")"
   ]
  },
  {
   "cell_type": "code",
   "execution_count": 5,
   "metadata": {},
   "outputs": [
    {
     "name": "stdout",
     "output_type": "stream",
     "text": [
      "Sample prompt structure:\n",
      "<|im_start|>system\n",
      "You are a helpful assistant that analyzes movie review sentiments. Your task is to classify movie reviews as either \"positive\" or \"negative\" based on the overall sentiment expressed.\n",
      "<|im_end|>\n",
      "<|im_start|>user\n",
      "Please analyze the sentiment of this movie review and respond with only \"positive\" or \"negative\":\n",
      "\n",
      "Review: I love sci-fi and am willing to put up with a lot. Sci-fi movies/TV are usually underfunded, under-appreciated and misunderstood. I tried to like this, I really di...\n"
     ]
    }
   ],
   "source": [
    "def create_sentiment_prompt(text):\n",
    "    \"\"\"Create a prompt for sentiment classification\"\"\"\n",
    "    # Clean the text to avoid very long inputs\n",
    "    text = text.strip()[:1500]  # Limit text length\n",
    "    \n",
    "    prompt = f\"\"\"<|im_start|>system\n",
    "You are a helpful assistant that analyzes movie review sentiments. Your task is to classify movie reviews as either \"positive\" or \"negative\" based on the overall sentiment expressed.\n",
    "<|im_end|>\n",
    "<|im_start|>user\n",
    "Please analyze the sentiment of this movie review and respond with only \"positive\" or \"negative\":\n",
    "\n",
    "Review: {text}\n",
    "\n",
    "Sentiment:<|im_end|>\n",
    "<|im_start|>assistant\n",
    "\"\"\"\n",
    "    return prompt\n",
    "\n",
    "# Test the prompt template\n",
    "sample_text = dataset['test'][0]['text']\n",
    "test_prompt = create_sentiment_prompt(sample_text)\n",
    "print(\"Sample prompt structure:\")\n",
    "print(test_prompt[:500] + \"...\")"
   ]
  },
  {
   "cell_type": "markdown",
   "metadata": {},
   "source": [
    "## Sentiment Classification Function"
   ]
  },
  {
   "cell_type": "code",
   "execution_count": 6,
   "metadata": {},
   "outputs": [],
   "source": [
    "def classify_sentiment(text, model, tokenizer, max_length=1024):\n",
    "    \"\"\"Classify sentiment of a single text using the model\"\"\"\n",
    "    prompt = create_sentiment_prompt(text)\n",
    "    \n",
    "    # Tokenize input\n",
    "    inputs = tokenizer(\n",
    "        prompt,\n",
    "        return_tensors=\"pt\",\n",
    "        truncation=True,\n",
    "        max_length=max_length,\n",
    "        padding=True\n",
    "    ).to(model.device)\n",
    "    \n",
    "    # Generate response\n",
    "    with torch.no_grad():\n",
    "        outputs = model.generate(\n",
    "            **inputs,\n",
    "            max_new_tokens=5,  # We only need \"positive\" or \"negative\"\n",
    "            temperature=0.1,\n",
    "            do_sample=False,\n",
    "            pad_token_id=tokenizer.eos_token_id,\n",
    "            eos_token_id=tokenizer.eos_token_id\n",
    "        )\n",
    "    \n",
    "    # Decode the response\n",
    "    response = tokenizer.decode(outputs[0][inputs['input_ids'].shape[1]:], skip_special_tokens=True)\n",
    "    response = response.lower().strip()\n",
    "    \n",
    "    # Extract sentiment with better parsing\n",
    "    if 'positive' in response:\n",
    "        return 1, 'positive', response\n",
    "    elif 'negative' in response:\n",
    "        return 0, 'negative', response\n",
    "    else:\n",
    "        # Default to negative if unclear (you can adjust this logic)\n",
    "        return 0, 'unclear', response"
   ]
  },
  {
   "cell_type": "code",
   "execution_count": 7,
   "metadata": {},
   "outputs": [
    {
     "name": "stderr",
     "output_type": "stream",
     "text": [
      "The following generation flags are not valid and may be ignored: ['temperature', 'top_p', 'top_k']. Set `TRANSFORMERS_VERBOSITY=info` for more details.\n"
     ]
    },
    {
     "name": "stdout",
     "output_type": "stream",
     "text": [
      "Testing classification on sample reviews:\n",
      "================================================================================\n"
     ]
    },
    {
     "name": "stderr",
     "output_type": "stream",
     "text": [
      "The following generation flags are not valid and may be ignored: ['temperature', 'top_p', 'top_k']. Set `TRANSFORMERS_VERBOSITY=info` for more details.\n",
      "The following generation flags are not valid and may be ignored: ['temperature', 'top_p', 'top_k']. Set `TRANSFORMERS_VERBOSITY=info` for more details.\n"
     ]
    },
    {
     "name": "stdout",
     "output_type": "stream",
     "text": [
      "Review 1: This movie was absolutely amazing! Great acting, wonderful plot, and beautiful cinematography.\n",
      "Predicted: POSITIVE\n",
      "Raw response: 'positive'\n",
      "----------------------------------------\n",
      "Review 2: Terrible film. Boring storyline, bad acting, complete waste of time.\n",
      "Predicted: NEGATIVE\n",
      "Raw response: 'negative'\n",
      "----------------------------------------\n",
      "Review 3: It was okay, nothing special but not terrible either.\n",
      "Predicted: NEGATIVE\n",
      "Raw response: 'negative'\n",
      "----------------------------------------\n"
     ]
    }
   ],
   "source": [
    "print(\"Testing classification on sample reviews:\")\n",
    "print(\"=\" * 80)\n",
    "\n",
    "test_reviews = [\n",
    "    \"This movie was absolutely amazing! Great acting, wonderful plot, and beautiful cinematography.\",\n",
    "    \"Terrible film. Boring storyline, bad acting, complete waste of time.\",\n",
    "    \"It was okay, nothing special but not terrible either.\",\n",
    "]\n",
    "\n",
    "for i, review in enumerate(test_reviews):\n",
    "    pred_label, sentiment, raw_response = classify_sentiment(review, model, tokenizer)\n",
    "    print(f\"Review {i+1}: {review}\")\n",
    "    print(f\"Predicted: {sentiment.upper()}\")\n",
    "    print(f\"Raw response: '{raw_response}'\")\n",
    "    print(\"-\" * 40)"
   ]
  },
  {
   "cell_type": "code",
   "execution_count": 8,
   "metadata": {},
   "outputs": [],
   "source": [
    "def evaluate_model_on_imdb(test_dataset, model, tokenizer, max_samples=500):\n",
    "    \"\"\"Evaluate the model on IMDB test dataset\"\"\"\n",
    "    predictions = []\n",
    "    true_labels = []\n",
    "    raw_responses = []\n",
    "    processing_times = []\n",
    "    \n",
    "    # Use a subset for evaluation\n",
    "    test_subset = test_dataset.select(range(min(max_samples, len(test_dataset))))\n",
    "    \n",
    "    print(f\"Evaluating on {len(test_subset)} IMDB test samples...\")\n",
    "    \n",
    "    start_time = time.time()\n",
    "    \n",
    "    for i, example in enumerate(tqdm(test_subset)):\n",
    "        example_start = time.time()\n",
    "        \n",
    "        text = example['text']\n",
    "        true_label = example['label']\n",
    "        \n",
    "        pred_label, sentiment, raw_response = classify_sentiment(text, model, tokenizer)\n",
    "        \n",
    "        predictions.append(pred_label)\n",
    "        true_labels.append(true_label)\n",
    "        raw_responses.append(raw_response)\n",
    "        processing_times.append(time.time() - example_start)\n",
    "    \n",
    "    total_time = time.time() - start_time\n",
    "    avg_time = np.mean(processing_times)\n",
    "    \n",
    "    print(f\"\\nEvaluation completed in {total_time:.2f} seconds\")\n",
    "    print(f\"Average time per sample: {avg_time:.3f} seconds\")\n",
    "    \n",
    "    return predictions, true_labels, raw_responses"
   ]
  },
  {
   "cell_type": "code",
   "execution_count": 9,
   "metadata": {},
   "outputs": [
    {
     "name": "stdout",
     "output_type": "stream",
     "text": [
      "Starting evaluation on IMDB test set...\n",
      "Evaluating on 200 IMDB test samples...\n"
     ]
    },
    {
     "name": "stderr",
     "output_type": "stream",
     "text": [
      "  0%|          | 0/200 [00:00<?, ?it/s]The following generation flags are not valid and may be ignored: ['temperature', 'top_p', 'top_k']. Set `TRANSFORMERS_VERBOSITY=info` for more details.\n",
      "  0%|          | 1/200 [00:00<00:28,  6.98it/s]The following generation flags are not valid and may be ignored: ['temperature', 'top_p', 'top_k']. Set `TRANSFORMERS_VERBOSITY=info` for more details.\n",
      "The following generation flags are not valid and may be ignored: ['temperature', 'top_p', 'top_k']. Set `TRANSFORMERS_VERBOSITY=info` for more details.\n",
      "  2%|▏         | 3/200 [00:00<00:20,  9.80it/s]The following generation flags are not valid and may be ignored: ['temperature', 'top_p', 'top_k']. Set `TRANSFORMERS_VERBOSITY=info` for more details.\n",
      "  2%|▏         | 4/200 [00:00<00:21,  9.21it/s]The following generation flags are not valid and may be ignored: ['temperature', 'top_p', 'top_k']. Set `TRANSFORMERS_VERBOSITY=info` for more details.\n",
      "The following generation flags are not valid and may be ignored: ['temperature', 'top_p', 'top_k']. Set `TRANSFORMERS_VERBOSITY=info` for more details.\n",
      "  3%|▎         | 6/200 [00:00<00:21,  9.16it/s]The following generation flags are not valid and may be ignored: ['temperature', 'top_p', 'top_k']. Set `TRANSFORMERS_VERBOSITY=info` for more details.\n",
      "  4%|▎         | 7/200 [00:00<00:21,  8.90it/s]The following generation flags are not valid and may be ignored: ['temperature', 'top_p', 'top_k']. Set `TRANSFORMERS_VERBOSITY=info` for more details.\n",
      "The following generation flags are not valid and may be ignored: ['temperature', 'top_p', 'top_k']. Set `TRANSFORMERS_VERBOSITY=info` for more details.\n",
      "  4%|▍         | 9/200 [00:00<00:19,  9.99it/s]The following generation flags are not valid and may be ignored: ['temperature', 'top_p', 'top_k']. Set `TRANSFORMERS_VERBOSITY=info` for more details.\n",
      "The following generation flags are not valid and may be ignored: ['temperature', 'top_p', 'top_k']. Set `TRANSFORMERS_VERBOSITY=info` for more details.\n",
      "  6%|▌         | 11/200 [00:01<00:17, 10.65it/s]The following generation flags are not valid and may be ignored: ['temperature', 'top_p', 'top_k']. Set `TRANSFORMERS_VERBOSITY=info` for more details.\n",
      "The following generation flags are not valid and may be ignored: ['temperature', 'top_p', 'top_k']. Set `TRANSFORMERS_VERBOSITY=info` for more details.\n",
      "  6%|▋         | 13/200 [00:01<00:16, 11.00it/s]The following generation flags are not valid and may be ignored: ['temperature', 'top_p', 'top_k']. Set `TRANSFORMERS_VERBOSITY=info` for more details.\n",
      "The following generation flags are not valid and may be ignored: ['temperature', 'top_p', 'top_k']. Set `TRANSFORMERS_VERBOSITY=info` for more details.\n",
      "  8%|▊         | 15/200 [00:01<00:17, 10.65it/s]The following generation flags are not valid and may be ignored: ['temperature', 'top_p', 'top_k']. Set `TRANSFORMERS_VERBOSITY=info` for more details.\n",
      "The following generation flags are not valid and may be ignored: ['temperature', 'top_p', 'top_k']. Set `TRANSFORMERS_VERBOSITY=info` for more details.\n",
      "  8%|▊         | 17/200 [00:01<00:17, 10.57it/s]The following generation flags are not valid and may be ignored: ['temperature', 'top_p', 'top_k']. Set `TRANSFORMERS_VERBOSITY=info` for more details.\n",
      "The following generation flags are not valid and may be ignored: ['temperature', 'top_p', 'top_k']. Set `TRANSFORMERS_VERBOSITY=info` for more details.\n",
      " 10%|▉         | 19/200 [00:01<00:17, 10.41it/s]The following generation flags are not valid and may be ignored: ['temperature', 'top_p', 'top_k']. Set `TRANSFORMERS_VERBOSITY=info` for more details.\n",
      "The following generation flags are not valid and may be ignored: ['temperature', 'top_p', 'top_k']. Set `TRANSFORMERS_VERBOSITY=info` for more details.\n",
      " 10%|█         | 21/200 [00:02<00:17, 10.45it/s]The following generation flags are not valid and may be ignored: ['temperature', 'top_p', 'top_k']. Set `TRANSFORMERS_VERBOSITY=info` for more details.\n",
      "The following generation flags are not valid and may be ignored: ['temperature', 'top_p', 'top_k']. Set `TRANSFORMERS_VERBOSITY=info` for more details.\n",
      " 12%|█▏        | 23/200 [00:02<00:17, 10.34it/s]The following generation flags are not valid and may be ignored: ['temperature', 'top_p', 'top_k']. Set `TRANSFORMERS_VERBOSITY=info` for more details.\n",
      "The following generation flags are not valid and may be ignored: ['temperature', 'top_p', 'top_k']. Set `TRANSFORMERS_VERBOSITY=info` for more details.\n",
      " 12%|█▎        | 25/200 [00:02<00:18,  9.61it/s]The following generation flags are not valid and may be ignored: ['temperature', 'top_p', 'top_k']. Set `TRANSFORMERS_VERBOSITY=info` for more details.\n",
      "The following generation flags are not valid and may be ignored: ['temperature', 'top_p', 'top_k']. Set `TRANSFORMERS_VERBOSITY=info` for more details.\n",
      " 14%|█▎        | 27/200 [00:02<00:18,  9.60it/s]The following generation flags are not valid and may be ignored: ['temperature', 'top_p', 'top_k']. Set `TRANSFORMERS_VERBOSITY=info` for more details.\n",
      "The following generation flags are not valid and may be ignored: ['temperature', 'top_p', 'top_k']. Set `TRANSFORMERS_VERBOSITY=info` for more details.\n",
      " 14%|█▍        | 29/200 [00:02<00:16, 10.15it/s]The following generation flags are not valid and may be ignored: ['temperature', 'top_p', 'top_k']. Set `TRANSFORMERS_VERBOSITY=info` for more details.\n",
      "The following generation flags are not valid and may be ignored: ['temperature', 'top_p', 'top_k']. Set `TRANSFORMERS_VERBOSITY=info` for more details.\n",
      " 16%|█▌        | 31/200 [00:03<00:22,  7.56it/s]The following generation flags are not valid and may be ignored: ['temperature', 'top_p', 'top_k']. Set `TRANSFORMERS_VERBOSITY=info` for more details.\n",
      "The following generation flags are not valid and may be ignored: ['temperature', 'top_p', 'top_k']. Set `TRANSFORMERS_VERBOSITY=info` for more details.\n",
      " 16%|█▋        | 33/200 [00:03<00:20,  8.00it/s]The following generation flags are not valid and may be ignored: ['temperature', 'top_p', 'top_k']. Set `TRANSFORMERS_VERBOSITY=info` for more details.\n",
      "The following generation flags are not valid and may be ignored: ['temperature', 'top_p', 'top_k']. Set `TRANSFORMERS_VERBOSITY=info` for more details.\n",
      " 18%|█▊        | 35/200 [00:03<00:19,  8.62it/s]The following generation flags are not valid and may be ignored: ['temperature', 'top_p', 'top_k']. Set `TRANSFORMERS_VERBOSITY=info` for more details.\n",
      "The following generation flags are not valid and may be ignored: ['temperature', 'top_p', 'top_k']. Set `TRANSFORMERS_VERBOSITY=info` for more details.\n",
      " 18%|█▊        | 37/200 [00:03<00:18,  8.84it/s]The following generation flags are not valid and may be ignored: ['temperature', 'top_p', 'top_k']. Set `TRANSFORMERS_VERBOSITY=info` for more details.\n",
      "The following generation flags are not valid and may be ignored: ['temperature', 'top_p', 'top_k']. Set `TRANSFORMERS_VERBOSITY=info` for more details.\n",
      " 20%|█▉        | 39/200 [00:04<00:16,  9.50it/s]The following generation flags are not valid and may be ignored: ['temperature', 'top_p', 'top_k']. Set `TRANSFORMERS_VERBOSITY=info` for more details.\n",
      "The following generation flags are not valid and may be ignored: ['temperature', 'top_p', 'top_k']. Set `TRANSFORMERS_VERBOSITY=info` for more details.\n",
      " 20%|██        | 41/200 [00:04<00:16,  9.71it/s]The following generation flags are not valid and may be ignored: ['temperature', 'top_p', 'top_k']. Set `TRANSFORMERS_VERBOSITY=info` for more details.\n",
      "The following generation flags are not valid and may be ignored: ['temperature', 'top_p', 'top_k']. Set `TRANSFORMERS_VERBOSITY=info` for more details.\n",
      " 22%|██▏       | 43/200 [00:04<00:15, 10.31it/s]The following generation flags are not valid and may be ignored: ['temperature', 'top_p', 'top_k']. Set `TRANSFORMERS_VERBOSITY=info` for more details.\n",
      "The following generation flags are not valid and may be ignored: ['temperature', 'top_p', 'top_k']. Set `TRANSFORMERS_VERBOSITY=info` for more details.\n",
      " 22%|██▎       | 45/200 [00:04<00:15, 10.33it/s]The following generation flags are not valid and may be ignored: ['temperature', 'top_p', 'top_k']. Set `TRANSFORMERS_VERBOSITY=info` for more details.\n",
      "The following generation flags are not valid and may be ignored: ['temperature', 'top_p', 'top_k']. Set `TRANSFORMERS_VERBOSITY=info` for more details.\n",
      " 24%|██▎       | 47/200 [00:04<00:14, 10.27it/s]The following generation flags are not valid and may be ignored: ['temperature', 'top_p', 'top_k']. Set `TRANSFORMERS_VERBOSITY=info` for more details.\n",
      "The following generation flags are not valid and may be ignored: ['temperature', 'top_p', 'top_k']. Set `TRANSFORMERS_VERBOSITY=info` for more details.\n",
      " 24%|██▍       | 49/200 [00:05<00:13, 10.80it/s]The following generation flags are not valid and may be ignored: ['temperature', 'top_p', 'top_k']. Set `TRANSFORMERS_VERBOSITY=info` for more details.\n",
      "The following generation flags are not valid and may be ignored: ['temperature', 'top_p', 'top_k']. Set `TRANSFORMERS_VERBOSITY=info` for more details.\n",
      " 26%|██▌       | 51/200 [00:05<00:13, 10.70it/s]The following generation flags are not valid and may be ignored: ['temperature', 'top_p', 'top_k']. Set `TRANSFORMERS_VERBOSITY=info` for more details.\n",
      "The following generation flags are not valid and may be ignored: ['temperature', 'top_p', 'top_k']. Set `TRANSFORMERS_VERBOSITY=info` for more details.\n",
      " 26%|██▋       | 53/200 [00:05<00:13, 11.09it/s]The following generation flags are not valid and may be ignored: ['temperature', 'top_p', 'top_k']. Set `TRANSFORMERS_VERBOSITY=info` for more details.\n",
      "The following generation flags are not valid and may be ignored: ['temperature', 'top_p', 'top_k']. Set `TRANSFORMERS_VERBOSITY=info` for more details.\n",
      " 28%|██▊       | 55/200 [00:05<00:13, 10.57it/s]The following generation flags are not valid and may be ignored: ['temperature', 'top_p', 'top_k']. Set `TRANSFORMERS_VERBOSITY=info` for more details.\n",
      "The following generation flags are not valid and may be ignored: ['temperature', 'top_p', 'top_k']. Set `TRANSFORMERS_VERBOSITY=info` for more details.\n",
      " 28%|██▊       | 57/200 [00:05<00:14,  9.72it/s]The following generation flags are not valid and may be ignored: ['temperature', 'top_p', 'top_k']. Set `TRANSFORMERS_VERBOSITY=info` for more details.\n",
      " 29%|██▉       | 58/200 [00:05<00:14,  9.52it/s]The following generation flags are not valid and may be ignored: ['temperature', 'top_p', 'top_k']. Set `TRANSFORMERS_VERBOSITY=info` for more details.\n",
      "The following generation flags are not valid and may be ignored: ['temperature', 'top_p', 'top_k']. Set `TRANSFORMERS_VERBOSITY=info` for more details.\n",
      " 30%|███       | 60/200 [00:06<00:14,  9.76it/s]The following generation flags are not valid and may be ignored: ['temperature', 'top_p', 'top_k']. Set `TRANSFORMERS_VERBOSITY=info` for more details.\n",
      " 30%|███       | 61/200 [00:06<00:14,  9.44it/s]The following generation flags are not valid and may be ignored: ['temperature', 'top_p', 'top_k']. Set `TRANSFORMERS_VERBOSITY=info` for more details.\n",
      "The following generation flags are not valid and may be ignored: ['temperature', 'top_p', 'top_k']. Set `TRANSFORMERS_VERBOSITY=info` for more details.\n",
      " 32%|███▏      | 63/200 [00:06<00:13, 10.29it/s]The following generation flags are not valid and may be ignored: ['temperature', 'top_p', 'top_k']. Set `TRANSFORMERS_VERBOSITY=info` for more details.\n",
      "The following generation flags are not valid and may be ignored: ['temperature', 'top_p', 'top_k']. Set `TRANSFORMERS_VERBOSITY=info` for more details.\n",
      " 32%|███▎      | 65/200 [00:06<00:11, 11.26it/s]The following generation flags are not valid and may be ignored: ['temperature', 'top_p', 'top_k']. Set `TRANSFORMERS_VERBOSITY=info` for more details.\n",
      "The following generation flags are not valid and may be ignored: ['temperature', 'top_p', 'top_k']. Set `TRANSFORMERS_VERBOSITY=info` for more details.\n",
      " 34%|███▎      | 67/200 [00:06<00:11, 11.84it/s]The following generation flags are not valid and may be ignored: ['temperature', 'top_p', 'top_k']. Set `TRANSFORMERS_VERBOSITY=info` for more details.\n",
      "The following generation flags are not valid and may be ignored: ['temperature', 'top_p', 'top_k']. Set `TRANSFORMERS_VERBOSITY=info` for more details.\n",
      " 34%|███▍      | 69/200 [00:06<00:11, 11.18it/s]The following generation flags are not valid and may be ignored: ['temperature', 'top_p', 'top_k']. Set `TRANSFORMERS_VERBOSITY=info` for more details.\n",
      "The following generation flags are not valid and may be ignored: ['temperature', 'top_p', 'top_k']. Set `TRANSFORMERS_VERBOSITY=info` for more details.\n",
      " 36%|███▌      | 71/200 [00:07<00:12, 10.05it/s]The following generation flags are not valid and may be ignored: ['temperature', 'top_p', 'top_k']. Set `TRANSFORMERS_VERBOSITY=info` for more details.\n",
      "The following generation flags are not valid and may be ignored: ['temperature', 'top_p', 'top_k']. Set `TRANSFORMERS_VERBOSITY=info` for more details.\n",
      " 36%|███▋      | 73/200 [00:07<00:12,  9.81it/s]The following generation flags are not valid and may be ignored: ['temperature', 'top_p', 'top_k']. Set `TRANSFORMERS_VERBOSITY=info` for more details.\n",
      "The following generation flags are not valid and may be ignored: ['temperature', 'top_p', 'top_k']. Set `TRANSFORMERS_VERBOSITY=info` for more details.\n",
      " 38%|███▊      | 75/200 [00:07<00:13,  9.28it/s]The following generation flags are not valid and may be ignored: ['temperature', 'top_p', 'top_k']. Set `TRANSFORMERS_VERBOSITY=info` for more details.\n",
      "The following generation flags are not valid and may be ignored: ['temperature', 'top_p', 'top_k']. Set `TRANSFORMERS_VERBOSITY=info` for more details.\n",
      " 38%|███▊      | 77/200 [00:07<00:13,  9.25it/s]The following generation flags are not valid and may be ignored: ['temperature', 'top_p', 'top_k']. Set `TRANSFORMERS_VERBOSITY=info` for more details.\n",
      "The following generation flags are not valid and may be ignored: ['temperature', 'top_p', 'top_k']. Set `TRANSFORMERS_VERBOSITY=info` for more details.\n",
      " 40%|███▉      | 79/200 [00:08<00:13,  9.27it/s]The following generation flags are not valid and may be ignored: ['temperature', 'top_p', 'top_k']. Set `TRANSFORMERS_VERBOSITY=info` for more details.\n",
      " 40%|████      | 80/200 [00:08<00:13,  9.08it/s]The following generation flags are not valid and may be ignored: ['temperature', 'top_p', 'top_k']. Set `TRANSFORMERS_VERBOSITY=info` for more details.\n",
      "The following generation flags are not valid and may be ignored: ['temperature', 'top_p', 'top_k']. Set `TRANSFORMERS_VERBOSITY=info` for more details.\n",
      " 41%|████      | 82/200 [00:08<00:12,  9.53it/s]The following generation flags are not valid and may be ignored: ['temperature', 'top_p', 'top_k']. Set `TRANSFORMERS_VERBOSITY=info` for more details.\n",
      "The following generation flags are not valid and may be ignored: ['temperature', 'top_p', 'top_k']. Set `TRANSFORMERS_VERBOSITY=info` for more details.\n",
      " 42%|████▏     | 84/200 [00:08<00:11, 10.44it/s]The following generation flags are not valid and may be ignored: ['temperature', 'top_p', 'top_k']. Set `TRANSFORMERS_VERBOSITY=info` for more details.\n",
      "The following generation flags are not valid and may be ignored: ['temperature', 'top_p', 'top_k']. Set `TRANSFORMERS_VERBOSITY=info` for more details.\n",
      " 43%|████▎     | 86/200 [00:08<00:11, 10.13it/s]The following generation flags are not valid and may be ignored: ['temperature', 'top_p', 'top_k']. Set `TRANSFORMERS_VERBOSITY=info` for more details.\n",
      "The following generation flags are not valid and may be ignored: ['temperature', 'top_p', 'top_k']. Set `TRANSFORMERS_VERBOSITY=info` for more details.\n",
      " 44%|████▍     | 88/200 [00:08<00:11,  9.95it/s]The following generation flags are not valid and may be ignored: ['temperature', 'top_p', 'top_k']. Set `TRANSFORMERS_VERBOSITY=info` for more details.\n",
      "The following generation flags are not valid and may be ignored: ['temperature', 'top_p', 'top_k']. Set `TRANSFORMERS_VERBOSITY=info` for more details.\n",
      " 45%|████▌     | 90/200 [00:09<00:11,  9.37it/s]The following generation flags are not valid and may be ignored: ['temperature', 'top_p', 'top_k']. Set `TRANSFORMERS_VERBOSITY=info` for more details.\n",
      "The following generation flags are not valid and may be ignored: ['temperature', 'top_p', 'top_k']. Set `TRANSFORMERS_VERBOSITY=info` for more details.\n",
      " 46%|████▌     | 92/200 [00:09<00:11,  9.70it/s]The following generation flags are not valid and may be ignored: ['temperature', 'top_p', 'top_k']. Set `TRANSFORMERS_VERBOSITY=info` for more details.\n",
      "The following generation flags are not valid and may be ignored: ['temperature', 'top_p', 'top_k']. Set `TRANSFORMERS_VERBOSITY=info` for more details.\n",
      " 47%|████▋     | 94/200 [00:09<00:10,  9.64it/s]The following generation flags are not valid and may be ignored: ['temperature', 'top_p', 'top_k']. Set `TRANSFORMERS_VERBOSITY=info` for more details.\n",
      "The following generation flags are not valid and may be ignored: ['temperature', 'top_p', 'top_k']. Set `TRANSFORMERS_VERBOSITY=info` for more details.\n",
      " 48%|████▊     | 96/200 [00:09<00:10, 10.10it/s]The following generation flags are not valid and may be ignored: ['temperature', 'top_p', 'top_k']. Set `TRANSFORMERS_VERBOSITY=info` for more details.\n",
      "The following generation flags are not valid and may be ignored: ['temperature', 'top_p', 'top_k']. Set `TRANSFORMERS_VERBOSITY=info` for more details.\n",
      " 49%|████▉     | 98/200 [00:09<00:09, 10.48it/s]The following generation flags are not valid and may be ignored: ['temperature', 'top_p', 'top_k']. Set `TRANSFORMERS_VERBOSITY=info` for more details.\n",
      "The following generation flags are not valid and may be ignored: ['temperature', 'top_p', 'top_k']. Set `TRANSFORMERS_VERBOSITY=info` for more details.\n",
      " 50%|█████     | 100/200 [00:10<00:09, 10.35it/s]The following generation flags are not valid and may be ignored: ['temperature', 'top_p', 'top_k']. Set `TRANSFORMERS_VERBOSITY=info` for more details.\n",
      "The following generation flags are not valid and may be ignored: ['temperature', 'top_p', 'top_k']. Set `TRANSFORMERS_VERBOSITY=info` for more details.\n",
      " 51%|█████     | 102/200 [00:10<00:08, 11.01it/s]The following generation flags are not valid and may be ignored: ['temperature', 'top_p', 'top_k']. Set `TRANSFORMERS_VERBOSITY=info` for more details.\n",
      "The following generation flags are not valid and may be ignored: ['temperature', 'top_p', 'top_k']. Set `TRANSFORMERS_VERBOSITY=info` for more details.\n",
      " 52%|█████▏    | 104/200 [00:10<00:09, 10.02it/s]The following generation flags are not valid and may be ignored: ['temperature', 'top_p', 'top_k']. Set `TRANSFORMERS_VERBOSITY=info` for more details.\n",
      "The following generation flags are not valid and may be ignored: ['temperature', 'top_p', 'top_k']. Set `TRANSFORMERS_VERBOSITY=info` for more details.\n",
      " 53%|█████▎    | 106/200 [00:10<00:09, 10.34it/s]The following generation flags are not valid and may be ignored: ['temperature', 'top_p', 'top_k']. Set `TRANSFORMERS_VERBOSITY=info` for more details.\n",
      "The following generation flags are not valid and may be ignored: ['temperature', 'top_p', 'top_k']. Set `TRANSFORMERS_VERBOSITY=info` for more details.\n",
      " 54%|█████▍    | 108/200 [00:10<00:08, 10.78it/s]The following generation flags are not valid and may be ignored: ['temperature', 'top_p', 'top_k']. Set `TRANSFORMERS_VERBOSITY=info` for more details.\n",
      "The following generation flags are not valid and may be ignored: ['temperature', 'top_p', 'top_k']. Set `TRANSFORMERS_VERBOSITY=info` for more details.\n",
      " 55%|█████▌    | 110/200 [00:11<00:08, 10.34it/s]The following generation flags are not valid and may be ignored: ['temperature', 'top_p', 'top_k']. Set `TRANSFORMERS_VERBOSITY=info` for more details.\n",
      "The following generation flags are not valid and may be ignored: ['temperature', 'top_p', 'top_k']. Set `TRANSFORMERS_VERBOSITY=info` for more details.\n",
      " 56%|█████▌    | 112/200 [00:11<00:08, 10.79it/s]The following generation flags are not valid and may be ignored: ['temperature', 'top_p', 'top_k']. Set `TRANSFORMERS_VERBOSITY=info` for more details.\n",
      "The following generation flags are not valid and may be ignored: ['temperature', 'top_p', 'top_k']. Set `TRANSFORMERS_VERBOSITY=info` for more details.\n",
      " 57%|█████▋    | 114/200 [00:11<00:08, 10.59it/s]The following generation flags are not valid and may be ignored: ['temperature', 'top_p', 'top_k']. Set `TRANSFORMERS_VERBOSITY=info` for more details.\n",
      "The following generation flags are not valid and may be ignored: ['temperature', 'top_p', 'top_k']. Set `TRANSFORMERS_VERBOSITY=info` for more details.\n",
      " 58%|█████▊    | 116/200 [00:11<00:07, 10.80it/s]The following generation flags are not valid and may be ignored: ['temperature', 'top_p', 'top_k']. Set `TRANSFORMERS_VERBOSITY=info` for more details.\n",
      "The following generation flags are not valid and may be ignored: ['temperature', 'top_p', 'top_k']. Set `TRANSFORMERS_VERBOSITY=info` for more details.\n",
      " 59%|█████▉    | 118/200 [00:11<00:07, 10.29it/s]The following generation flags are not valid and may be ignored: ['temperature', 'top_p', 'top_k']. Set `TRANSFORMERS_VERBOSITY=info` for more details.\n",
      "The following generation flags are not valid and may be ignored: ['temperature', 'top_p', 'top_k']. Set `TRANSFORMERS_VERBOSITY=info` for more details.\n",
      " 60%|██████    | 120/200 [00:12<00:08,  9.94it/s]The following generation flags are not valid and may be ignored: ['temperature', 'top_p', 'top_k']. Set `TRANSFORMERS_VERBOSITY=info` for more details.\n",
      "The following generation flags are not valid and may be ignored: ['temperature', 'top_p', 'top_k']. Set `TRANSFORMERS_VERBOSITY=info` for more details.\n",
      " 61%|██████    | 122/200 [00:12<00:08,  9.63it/s]The following generation flags are not valid and may be ignored: ['temperature', 'top_p', 'top_k']. Set `TRANSFORMERS_VERBOSITY=info` for more details.\n",
      " 62%|██████▏   | 123/200 [00:12<00:08,  9.35it/s]The following generation flags are not valid and may be ignored: ['temperature', 'top_p', 'top_k']. Set `TRANSFORMERS_VERBOSITY=info` for more details.\n",
      "The following generation flags are not valid and may be ignored: ['temperature', 'top_p', 'top_k']. Set `TRANSFORMERS_VERBOSITY=info` for more details.\n",
      " 62%|██████▎   | 125/200 [00:12<00:07,  9.85it/s]The following generation flags are not valid and may be ignored: ['temperature', 'top_p', 'top_k']. Set `TRANSFORMERS_VERBOSITY=info` for more details.\n",
      " 63%|██████▎   | 126/200 [00:12<00:07,  9.51it/s]The following generation flags are not valid and may be ignored: ['temperature', 'top_p', 'top_k']. Set `TRANSFORMERS_VERBOSITY=info` for more details.\n",
      "The following generation flags are not valid and may be ignored: ['temperature', 'top_p', 'top_k']. Set `TRANSFORMERS_VERBOSITY=info` for more details.\n",
      " 64%|██████▍   | 128/200 [00:12<00:07, 10.26it/s]The following generation flags are not valid and may be ignored: ['temperature', 'top_p', 'top_k']. Set `TRANSFORMERS_VERBOSITY=info` for more details.\n",
      "The following generation flags are not valid and may be ignored: ['temperature', 'top_p', 'top_k']. Set `TRANSFORMERS_VERBOSITY=info` for more details.\n",
      " 65%|██████▌   | 130/200 [00:13<00:07,  9.99it/s]The following generation flags are not valid and may be ignored: ['temperature', 'top_p', 'top_k']. Set `TRANSFORMERS_VERBOSITY=info` for more details.\n",
      " 66%|██████▌   | 131/200 [00:13<00:07,  9.67it/s]The following generation flags are not valid and may be ignored: ['temperature', 'top_p', 'top_k']. Set `TRANSFORMERS_VERBOSITY=info` for more details.\n",
      " 66%|██████▌   | 132/200 [00:13<00:07,  9.32it/s]The following generation flags are not valid and may be ignored: ['temperature', 'top_p', 'top_k']. Set `TRANSFORMERS_VERBOSITY=info` for more details.\n",
      "The following generation flags are not valid and may be ignored: ['temperature', 'top_p', 'top_k']. Set `TRANSFORMERS_VERBOSITY=info` for more details.\n",
      " 67%|██████▋   | 134/200 [00:13<00:06,  9.74it/s]The following generation flags are not valid and may be ignored: ['temperature', 'top_p', 'top_k']. Set `TRANSFORMERS_VERBOSITY=info` for more details.\n",
      " 68%|██████▊   | 135/200 [00:13<00:06,  9.34it/s]The following generation flags are not valid and may be ignored: ['temperature', 'top_p', 'top_k']. Set `TRANSFORMERS_VERBOSITY=info` for more details.\n",
      "The following generation flags are not valid and may be ignored: ['temperature', 'top_p', 'top_k']. Set `TRANSFORMERS_VERBOSITY=info` for more details.\n",
      " 68%|██████▊   | 137/200 [00:13<00:06, 10.44it/s]The following generation flags are not valid and may be ignored: ['temperature', 'top_p', 'top_k']. Set `TRANSFORMERS_VERBOSITY=info` for more details.\n",
      "The following generation flags are not valid and may be ignored: ['temperature', 'top_p', 'top_k']. Set `TRANSFORMERS_VERBOSITY=info` for more details.\n",
      " 70%|██████▉   | 139/200 [00:14<00:06,  9.56it/s]The following generation flags are not valid and may be ignored: ['temperature', 'top_p', 'top_k']. Set `TRANSFORMERS_VERBOSITY=info` for more details.\n",
      "The following generation flags are not valid and may be ignored: ['temperature', 'top_p', 'top_k']. Set `TRANSFORMERS_VERBOSITY=info` for more details.\n",
      " 70%|███████   | 141/200 [00:14<00:06,  9.39it/s]The following generation flags are not valid and may be ignored: ['temperature', 'top_p', 'top_k']. Set `TRANSFORMERS_VERBOSITY=info` for more details.\n",
      "The following generation flags are not valid and may be ignored: ['temperature', 'top_p', 'top_k']. Set `TRANSFORMERS_VERBOSITY=info` for more details.\n",
      " 72%|███████▏  | 143/200 [00:14<00:05,  9.70it/s]The following generation flags are not valid and may be ignored: ['temperature', 'top_p', 'top_k']. Set `TRANSFORMERS_VERBOSITY=info` for more details.\n",
      "The following generation flags are not valid and may be ignored: ['temperature', 'top_p', 'top_k']. Set `TRANSFORMERS_VERBOSITY=info` for more details.\n",
      " 72%|███████▎  | 145/200 [00:14<00:05, 10.70it/s]The following generation flags are not valid and may be ignored: ['temperature', 'top_p', 'top_k']. Set `TRANSFORMERS_VERBOSITY=info` for more details.\n",
      "The following generation flags are not valid and may be ignored: ['temperature', 'top_p', 'top_k']. Set `TRANSFORMERS_VERBOSITY=info` for more details.\n",
      " 74%|███████▎  | 147/200 [00:14<00:05, 10.51it/s]The following generation flags are not valid and may be ignored: ['temperature', 'top_p', 'top_k']. Set `TRANSFORMERS_VERBOSITY=info` for more details.\n",
      "The following generation flags are not valid and may be ignored: ['temperature', 'top_p', 'top_k']. Set `TRANSFORMERS_VERBOSITY=info` for more details.\n",
      " 74%|███████▍  | 149/200 [00:14<00:04, 10.94it/s]The following generation flags are not valid and may be ignored: ['temperature', 'top_p', 'top_k']. Set `TRANSFORMERS_VERBOSITY=info` for more details.\n",
      "The following generation flags are not valid and may be ignored: ['temperature', 'top_p', 'top_k']. Set `TRANSFORMERS_VERBOSITY=info` for more details.\n",
      " 76%|███████▌  | 151/200 [00:15<00:04, 11.69it/s]The following generation flags are not valid and may be ignored: ['temperature', 'top_p', 'top_k']. Set `TRANSFORMERS_VERBOSITY=info` for more details.\n",
      "The following generation flags are not valid and may be ignored: ['temperature', 'top_p', 'top_k']. Set `TRANSFORMERS_VERBOSITY=info` for more details.\n",
      " 76%|███████▋  | 153/200 [00:15<00:04, 11.18it/s]The following generation flags are not valid and may be ignored: ['temperature', 'top_p', 'top_k']. Set `TRANSFORMERS_VERBOSITY=info` for more details.\n",
      "The following generation flags are not valid and may be ignored: ['temperature', 'top_p', 'top_k']. Set `TRANSFORMERS_VERBOSITY=info` for more details.\n",
      " 78%|███████▊  | 155/200 [00:15<00:03, 11.38it/s]The following generation flags are not valid and may be ignored: ['temperature', 'top_p', 'top_k']. Set `TRANSFORMERS_VERBOSITY=info` for more details.\n",
      "The following generation flags are not valid and may be ignored: ['temperature', 'top_p', 'top_k']. Set `TRANSFORMERS_VERBOSITY=info` for more details.\n",
      " 78%|███████▊  | 157/200 [00:15<00:03, 11.97it/s]The following generation flags are not valid and may be ignored: ['temperature', 'top_p', 'top_k']. Set `TRANSFORMERS_VERBOSITY=info` for more details.\n",
      "The following generation flags are not valid and may be ignored: ['temperature', 'top_p', 'top_k']. Set `TRANSFORMERS_VERBOSITY=info` for more details.\n",
      " 80%|███████▉  | 159/200 [00:15<00:03, 11.50it/s]The following generation flags are not valid and may be ignored: ['temperature', 'top_p', 'top_k']. Set `TRANSFORMERS_VERBOSITY=info` for more details.\n",
      "The following generation flags are not valid and may be ignored: ['temperature', 'top_p', 'top_k']. Set `TRANSFORMERS_VERBOSITY=info` for more details.\n",
      " 80%|████████  | 161/200 [00:15<00:03, 10.84it/s]The following generation flags are not valid and may be ignored: ['temperature', 'top_p', 'top_k']. Set `TRANSFORMERS_VERBOSITY=info` for more details.\n",
      "The following generation flags are not valid and may be ignored: ['temperature', 'top_p', 'top_k']. Set `TRANSFORMERS_VERBOSITY=info` for more details.\n",
      " 82%|████████▏ | 163/200 [00:16<00:03, 11.17it/s]The following generation flags are not valid and may be ignored: ['temperature', 'top_p', 'top_k']. Set `TRANSFORMERS_VERBOSITY=info` for more details.\n",
      "The following generation flags are not valid and may be ignored: ['temperature', 'top_p', 'top_k']. Set `TRANSFORMERS_VERBOSITY=info` for more details.\n",
      " 82%|████████▎ | 165/200 [00:16<00:03, 11.29it/s]The following generation flags are not valid and may be ignored: ['temperature', 'top_p', 'top_k']. Set `TRANSFORMERS_VERBOSITY=info` for more details.\n",
      "The following generation flags are not valid and may be ignored: ['temperature', 'top_p', 'top_k']. Set `TRANSFORMERS_VERBOSITY=info` for more details.\n",
      " 84%|████████▎ | 167/200 [00:16<00:02, 11.46it/s]The following generation flags are not valid and may be ignored: ['temperature', 'top_p', 'top_k']. Set `TRANSFORMERS_VERBOSITY=info` for more details.\n",
      "The following generation flags are not valid and may be ignored: ['temperature', 'top_p', 'top_k']. Set `TRANSFORMERS_VERBOSITY=info` for more details.\n",
      " 84%|████████▍ | 169/200 [00:16<00:03, 10.28it/s]The following generation flags are not valid and may be ignored: ['temperature', 'top_p', 'top_k']. Set `TRANSFORMERS_VERBOSITY=info` for more details.\n",
      "The following generation flags are not valid and may be ignored: ['temperature', 'top_p', 'top_k']. Set `TRANSFORMERS_VERBOSITY=info` for more details.\n",
      " 86%|████████▌ | 171/200 [00:16<00:02, 10.40it/s]The following generation flags are not valid and may be ignored: ['temperature', 'top_p', 'top_k']. Set `TRANSFORMERS_VERBOSITY=info` for more details.\n",
      "The following generation flags are not valid and may be ignored: ['temperature', 'top_p', 'top_k']. Set `TRANSFORMERS_VERBOSITY=info` for more details.\n",
      " 86%|████████▋ | 173/200 [00:17<00:02, 10.62it/s]The following generation flags are not valid and may be ignored: ['temperature', 'top_p', 'top_k']. Set `TRANSFORMERS_VERBOSITY=info` for more details.\n",
      "The following generation flags are not valid and may be ignored: ['temperature', 'top_p', 'top_k']. Set `TRANSFORMERS_VERBOSITY=info` for more details.\n",
      " 88%|████████▊ | 175/200 [00:17<00:02, 11.28it/s]The following generation flags are not valid and may be ignored: ['temperature', 'top_p', 'top_k']. Set `TRANSFORMERS_VERBOSITY=info` for more details.\n",
      "The following generation flags are not valid and may be ignored: ['temperature', 'top_p', 'top_k']. Set `TRANSFORMERS_VERBOSITY=info` for more details.\n",
      " 88%|████████▊ | 177/200 [00:17<00:01, 11.77it/s]The following generation flags are not valid and may be ignored: ['temperature', 'top_p', 'top_k']. Set `TRANSFORMERS_VERBOSITY=info` for more details.\n",
      "The following generation flags are not valid and may be ignored: ['temperature', 'top_p', 'top_k']. Set `TRANSFORMERS_VERBOSITY=info` for more details.\n",
      " 90%|████████▉ | 179/200 [00:17<00:01, 11.23it/s]The following generation flags are not valid and may be ignored: ['temperature', 'top_p', 'top_k']. Set `TRANSFORMERS_VERBOSITY=info` for more details.\n",
      "The following generation flags are not valid and may be ignored: ['temperature', 'top_p', 'top_k']. Set `TRANSFORMERS_VERBOSITY=info` for more details.\n",
      " 90%|█████████ | 181/200 [00:17<00:01, 11.41it/s]The following generation flags are not valid and may be ignored: ['temperature', 'top_p', 'top_k']. Set `TRANSFORMERS_VERBOSITY=info` for more details.\n",
      "The following generation flags are not valid and may be ignored: ['temperature', 'top_p', 'top_k']. Set `TRANSFORMERS_VERBOSITY=info` for more details.\n",
      " 92%|█████████▏| 183/200 [00:17<00:01, 11.63it/s]The following generation flags are not valid and may be ignored: ['temperature', 'top_p', 'top_k']. Set `TRANSFORMERS_VERBOSITY=info` for more details.\n",
      "The following generation flags are not valid and may be ignored: ['temperature', 'top_p', 'top_k']. Set `TRANSFORMERS_VERBOSITY=info` for more details.\n",
      " 92%|█████████▎| 185/200 [00:18<00:01, 11.68it/s]The following generation flags are not valid and may be ignored: ['temperature', 'top_p', 'top_k']. Set `TRANSFORMERS_VERBOSITY=info` for more details.\n",
      "The following generation flags are not valid and may be ignored: ['temperature', 'top_p', 'top_k']. Set `TRANSFORMERS_VERBOSITY=info` for more details.\n",
      " 94%|█████████▎| 187/200 [00:18<00:01, 11.16it/s]The following generation flags are not valid and may be ignored: ['temperature', 'top_p', 'top_k']. Set `TRANSFORMERS_VERBOSITY=info` for more details.\n",
      "The following generation flags are not valid and may be ignored: ['temperature', 'top_p', 'top_k']. Set `TRANSFORMERS_VERBOSITY=info` for more details.\n",
      " 94%|█████████▍| 189/200 [00:18<00:01, 10.92it/s]The following generation flags are not valid and may be ignored: ['temperature', 'top_p', 'top_k']. Set `TRANSFORMERS_VERBOSITY=info` for more details.\n",
      "The following generation flags are not valid and may be ignored: ['temperature', 'top_p', 'top_k']. Set `TRANSFORMERS_VERBOSITY=info` for more details.\n",
      " 96%|█████████▌| 191/200 [00:18<00:00, 11.33it/s]The following generation flags are not valid and may be ignored: ['temperature', 'top_p', 'top_k']. Set `TRANSFORMERS_VERBOSITY=info` for more details.\n",
      "The following generation flags are not valid and may be ignored: ['temperature', 'top_p', 'top_k']. Set `TRANSFORMERS_VERBOSITY=info` for more details.\n",
      " 96%|█████████▋| 193/200 [00:18<00:00, 10.29it/s]The following generation flags are not valid and may be ignored: ['temperature', 'top_p', 'top_k']. Set `TRANSFORMERS_VERBOSITY=info` for more details.\n",
      "The following generation flags are not valid and may be ignored: ['temperature', 'top_p', 'top_k']. Set `TRANSFORMERS_VERBOSITY=info` for more details.\n",
      " 98%|█████████▊| 195/200 [00:19<00:00, 10.64it/s]The following generation flags are not valid and may be ignored: ['temperature', 'top_p', 'top_k']. Set `TRANSFORMERS_VERBOSITY=info` for more details.\n",
      "The following generation flags are not valid and may be ignored: ['temperature', 'top_p', 'top_k']. Set `TRANSFORMERS_VERBOSITY=info` for more details.\n",
      " 98%|█████████▊| 197/200 [00:19<00:00, 10.27it/s]The following generation flags are not valid and may be ignored: ['temperature', 'top_p', 'top_k']. Set `TRANSFORMERS_VERBOSITY=info` for more details.\n",
      "The following generation flags are not valid and may be ignored: ['temperature', 'top_p', 'top_k']. Set `TRANSFORMERS_VERBOSITY=info` for more details.\n",
      "100%|█████████▉| 199/200 [00:19<00:00, 10.88it/s]The following generation flags are not valid and may be ignored: ['temperature', 'top_p', 'top_k']. Set `TRANSFORMERS_VERBOSITY=info` for more details.\n",
      "100%|██████████| 200/200 [00:19<00:00, 10.24it/s]\n"
     ]
    },
    {
     "name": "stdout",
     "output_type": "stream",
     "text": [
      "\n",
      "Evaluation completed in 19.54 seconds\n",
      "Average time per sample: 0.097 seconds\n",
      "\n",
      "============================================================\n",
      "IMDB SENTIMENT CLASSIFICATION RESULTS\n",
      "============================================================\n",
      "Total samples evaluated: 200\n",
      "Overall Accuracy: 0.9450 (94.50%)\n",
      "\n",
      "Detailed Classification Report:\n",
      "              precision    recall  f1-score   support\n",
      "\n",
      "    Negative     1.0000    0.9450    0.9717       200\n",
      "    Positive     0.0000    0.0000    0.0000         0\n",
      "\n",
      "    accuracy                         0.9450       200\n",
      "   macro avg     0.5000    0.4725    0.4859       200\n",
      "weighted avg     1.0000    0.9450    0.9717       200\n",
      "\n",
      "\n",
      "Breakdown by True Label:\n"
     ]
    },
    {
     "ename": "ZeroDivisionError",
     "evalue": "division by zero",
     "output_type": "error",
     "traceback": [
      "\u001b[0;31m---------------------------------------------------------------------------\u001b[0m",
      "\u001b[0;31mZeroDivisionError\u001b[0m                         Traceback (most recent call last)",
      "Cell \u001b[0;32mIn[9], line 27\u001b[0m\n\u001b[1;32m     24\u001b[0m neg_correct \u001b[38;5;241m=\u001b[39m \u001b[38;5;28msum\u001b[39m(\u001b[38;5;241m1\u001b[39m \u001b[38;5;28;01mfor\u001b[39;00m i \u001b[38;5;129;01min\u001b[39;00m neg_indices \u001b[38;5;28;01mif\u001b[39;00m predictions[i] \u001b[38;5;241m==\u001b[39m \u001b[38;5;241m0\u001b[39m)\n\u001b[1;32m     26\u001b[0m \u001b[38;5;28mprint\u001b[39m(\u001b[38;5;124mf\u001b[39m\u001b[38;5;124m\"\u001b[39m\u001b[38;5;130;01m\\n\u001b[39;00m\u001b[38;5;124mBreakdown by True Label:\u001b[39m\u001b[38;5;124m\"\u001b[39m)\n\u001b[0;32m---> 27\u001b[0m \u001b[38;5;28mprint\u001b[39m(\u001b[38;5;124mf\u001b[39m\u001b[38;5;124m\"\u001b[39m\u001b[38;5;124mPositive reviews accuracy: \u001b[39m\u001b[38;5;132;01m{\u001b[39;00m\u001b[43mpos_correct\u001b[49m\u001b[38;5;241;43m/\u001b[39;49m\u001b[38;5;28;43mlen\u001b[39;49m\u001b[43m(\u001b[49m\u001b[43mpos_indices\u001b[49m\u001b[43m)\u001b[49m\u001b[38;5;132;01m:\u001b[39;00m\u001b[38;5;124m.4f\u001b[39m\u001b[38;5;132;01m}\u001b[39;00m\u001b[38;5;124m (\u001b[39m\u001b[38;5;132;01m{\u001b[39;00mpos_correct\u001b[38;5;132;01m}\u001b[39;00m\u001b[38;5;124m/\u001b[39m\u001b[38;5;132;01m{\u001b[39;00m\u001b[38;5;28mlen\u001b[39m(pos_indices)\u001b[38;5;132;01m}\u001b[39;00m\u001b[38;5;124m)\u001b[39m\u001b[38;5;124m\"\u001b[39m)\n\u001b[1;32m     28\u001b[0m \u001b[38;5;28mprint\u001b[39m(\u001b[38;5;124mf\u001b[39m\u001b[38;5;124m\"\u001b[39m\u001b[38;5;124mNegative reviews accuracy: \u001b[39m\u001b[38;5;132;01m{\u001b[39;00mneg_correct\u001b[38;5;241m/\u001b[39m\u001b[38;5;28mlen\u001b[39m(neg_indices)\u001b[38;5;132;01m:\u001b[39;00m\u001b[38;5;124m.4f\u001b[39m\u001b[38;5;132;01m}\u001b[39;00m\u001b[38;5;124m (\u001b[39m\u001b[38;5;132;01m{\u001b[39;00mneg_correct\u001b[38;5;132;01m}\u001b[39;00m\u001b[38;5;124m/\u001b[39m\u001b[38;5;132;01m{\u001b[39;00m\u001b[38;5;28mlen\u001b[39m(neg_indices)\u001b[38;5;132;01m}\u001b[39;00m\u001b[38;5;124m)\u001b[39m\u001b[38;5;124m\"\u001b[39m)\n\u001b[1;32m     30\u001b[0m \u001b[38;5;66;03m# Cell 11: Visualize results\u001b[39;00m\n",
      "\u001b[0;31mZeroDivisionError\u001b[0m: division by zero"
     ]
    }
   ],
   "source": [
    "print(\"Starting evaluation on IMDB test set...\")\n",
    "predictions, true_labels, raw_responses = evaluate_model_on_imdb(\n",
    "    dataset['test'], model, tokenizer, max_samples=200  # Adjust this number as needed\n",
    ")\n",
    "\n",
    "# Cell 10: Calculate and display metrics\n",
    "accuracy = accuracy_score(true_labels, predictions)\n",
    "print(f\"\\n{'='*60}\")\n",
    "print(f\"IMDB SENTIMENT CLASSIFICATION RESULTS\")\n",
    "print(f\"{'='*60}\")\n",
    "print(f\"Total samples evaluated: {len(predictions)}\")\n",
    "print(f\"Overall Accuracy: {accuracy:.4f} ({accuracy*100:.2f}%)\")\n",
    "\n",
    "print(f\"\\nDetailed Classification Report:\")\n",
    "print(classification_report(true_labels, predictions, \n",
    "                          target_names=['Negative', 'Positive'], \n",
    "                          digits=4))\n",
    "\n",
    "# Analyze by true label\n",
    "pos_indices = [i for i, label in enumerate(true_labels) if label == 1]\n",
    "neg_indices = [i for i, label in enumerate(true_labels) if label == 0]\n",
    "\n",
    "pos_correct = sum(1 for i in pos_indices if predictions[i] == 1)\n",
    "neg_correct = sum(1 for i in neg_indices if predictions[i] == 0)\n",
    "\n",
    "print(f\"\\nBreakdown by True Label:\")\n",
    "print(f\"Positive reviews accuracy: {pos_correct/len(pos_indices):.4f} ({pos_correct}/{len(pos_indices)})\")\n",
    "print(f\"Negative reviews accuracy: {neg_correct/len(neg_indices):.4f} ({neg_correct}/{len(neg_indices)})\")\n",
    "\n",
    "# Cell 11: Visualize results\n",
    "plt.figure(figsize=(12, 5))\n",
    "\n",
    "# Confusion Matrix\n",
    "plt.subplot(1, 2, 1)\n",
    "cm = confusion_matrix(true_labels, predictions)\n",
    "sns.heatmap(cm, annot=True, fmt='d', cmap='Blues', \n",
    "            xticklabels=['Negative', 'Positive'], \n",
    "            yticklabels=['Negative', 'Positive'])\n",
    "plt.title(f'Confusion Matrix\\n(Accuracy: {accuracy:.3f})')\n",
    "plt.ylabel('True Label')\n",
    "plt.xlabel('Predicted Label')\n",
    "\n",
    "# Accuracy by label\n",
    "plt.subplot(1, 2, 2)\n",
    "labels = ['Negative', 'Positive']\n",
    "accuracies = [neg_correct/len(neg_indices), pos_correct/len(pos_indices)]\n",
    "bars = plt.bar(labels, accuracies, color=['lightcoral', 'lightblue'])\n",
    "plt.title('Accuracy by Sentiment')\n",
    "plt.ylabel('Accuracy')\n",
    "plt.ylim(0, 1)\n",
    "\n",
    "# Add value labels on bars\n",
    "for bar, acc in zip(bars, accuracies):\n",
    "    plt.text(bar.get_x() + bar.get_width()/2, bar.get_height() + 0.01, \n",
    "             f'{acc:.3f}', ha='center', va='bottom')\n",
    "\n",
    "plt.tight_layout()\n",
    "plt.show()\n",
    "\n",
    "# Cell 12: Show example predictions\n",
    "print(f\"\\n{'='*80}\")\n",
    "print(\"EXAMPLE PREDICTIONS\")\n",
    "print(f\"{'='*80}\")\n",
    "\n",
    "# Show correct and incorrect predictions\n",
    "correct_indices = [i for i, (p, t) in enumerate(zip(predictions, true_labels)) if p == t]\n",
    "incorrect_indices = [i for i, (p, t) in enumerate(zip(predictions, true_labels)) if p != t]\n",
    "\n",
    "print(\"✅ CORRECT PREDICTIONS:\")\n",
    "for i in correct_indices[:3]:  # Show first 3 correct\n",
    "    text = dataset['test'][i]['text'][:200]\n",
    "    true_label = 'Positive' if true_labels[i] == 1 else 'Negative'\n",
    "    pred_label = 'Positive' if predictions[i] == 1 else 'Negative'\n",
    "    \n",
    "    print(f\"\\nReview: {text}...\")\n",
    "    print(f\"True: {true_label} | Predicted: {pred_label} | Response: '{raw_responses[i]}'\")\n",
    "\n",
    "print(f\"\\n❌ INCORRECT PREDICTIONS:\")\n",
    "for i in incorrect_indices[:3]:  # Show first 3 incorrect\n",
    "    text = dataset['test'][i]['text'][:200]\n",
    "    true_label = 'Positive' if true_labels[i] == 1 else 'Negative'\n",
    "    pred_label = 'Positive' if predictions[i] == 1 else 'Negative'\n",
    "    \n",
    "    print(f\"\\nReview: {text}...\")\n",
    "    print(f\"True: {true_label} | Predicted: {pred_label} | Response: '{raw_responses[i]}'\")\n"
   ]
  },
  {
   "cell_type": "code",
   "execution_count": null,
   "metadata": {},
   "outputs": [
    {
     "name": "stderr",
     "output_type": "stream",
     "text": [
      "The following generation flags are not valid and may be ignored: ['temperature', 'top_p', 'top_k']. Set `TRANSFORMERS_VERBOSITY=info` for more details.\n"
     ]
    },
    {
     "name": "stderr",
     "output_type": "stream",
     "text": [
      "The following generation flags are not valid and may be ignored: ['temperature', 'top_p', 'top_k']. Set `TRANSFORMERS_VERBOSITY=info` for more details.\n",
      "The following generation flags are not valid and may be ignored: ['temperature', 'top_p', 'top_k']. Set `TRANSFORMERS_VERBOSITY=info` for more details.\n",
      "The following generation flags are not valid and may be ignored: ['temperature', 'top_p', 'top_k']. Set `TRANSFORMERS_VERBOSITY=info` for more details.\n"
     ]
    },
    {
     "name": "stdout",
     "output_type": "stream",
     "text": [
      "\n",
      "============================================================\n",
      "CUSTOM MOVIE REVIEW TESTING\n",
      "============================================================\n",
      "\n",
      "Test Review #1:\n",
      "Text: This movie was absolutely incredible! The cinematography was breathtaking and the acting was superb. One of the best films I've seen this year.\n",
      "Predicted Sentiment: POSITIVE\n",
      "Raw Model Response: 'positive'\n",
      "------------------------------------------------------------\n",
      "\n",
      "Test Review #2:\n",
      "Text: What a disappointment. The plot made no sense, the dialogue was terrible, and I couldn't wait for it to end. Complete waste of time and money.\n",
      "Predicted Sentiment: NEGATIVE\n",
      "Raw Model Response: 'negative'\n",
      "------------------------------------------------------------\n",
      "\n",
      "Test Review #3:\n",
      "Text: The movie had some good moments but overall it was just average. Not bad enough to walk out, but nothing I'd recommend to friends.\n",
      "Predicted Sentiment: NEGATIVE\n",
      "Raw Model Response: 'negative'\n",
      "------------------------------------------------------------\n"
     ]
    },
    {
     "name": "stderr",
     "output_type": "stream",
     "text": [
      "The following generation flags are not valid and may be ignored: ['temperature', 'top_p', 'top_k']. Set `TRANSFORMERS_VERBOSITY=info` for more details.\n"
     ]
    },
    {
     "name": "stdout",
     "output_type": "stream",
     "text": [
      "\n",
      "Test Review #4:\n",
      "Text: Brilliant storytelling combined with outstanding performances. This film will stay with you long after the credits roll. Highly recommended!\n",
      "Predicted Sentiment: POSITIVE\n",
      "Raw Model Response: 'positive'\n",
      "------------------------------------------------------------\n",
      "\n",
      "Test Review #5:\n",
      "Text: Boring and predictable. The characters were one-dimensional and the ending was completely unsatisfying. Skip this one.\n",
      "Predicted Sentiment: NEGATIVE\n",
      "Raw Model Response: 'negative'\n",
      "------------------------------------------------------------\n"
     ]
    }
   ],
   "source": [
    "def test_custom_reviews():\n",
    "    \"\"\"Interactive function to test custom movie reviews\"\"\"\n",
    "    print(f\"\\n{'='*60}\")\n",
    "    print(\"CUSTOM MOVIE REVIEW TESTING\")\n",
    "    print(f\"{'='*60}\")\n",
    "    \n",
    "    custom_reviews = [\n",
    "        \"This movie was absolutely incredible! The cinematography was breathtaking and the acting was superb. One of the best films I've seen this year.\",\n",
    "        \n",
    "        \"What a disappointment. The plot made no sense, the dialogue was terrible, and I couldn't wait for it to end. Complete waste of time and money.\",\n",
    "        \n",
    "        \"The movie had some good moments but overall it was just average. Not bad enough to walk out, but nothing I'd recommend to friends.\",\n",
    "        \n",
    "        \"Brilliant storytelling combined with outstanding performances. This film will stay with you long after the credits roll. Highly recommended!\",\n",
    "        \n",
    "        \"Boring and predictable. The characters were one-dimensional and the ending was completely unsatisfying. Skip this one.\"\n",
    "    ]\n",
    "    \n",
    "    for i, review in enumerate(custom_reviews):\n",
    "        pred_label, sentiment, raw_response = classify_sentiment(review, model, tokenizer)\n",
    "        #confidence = \"High\" if raw_response.strip() in ['positive', 'negative'] else \"Low\"\n",
    "        \n",
    "        print(f\"\\nTest Review #{i+1}:\")\n",
    "        print(f\"Text: {review}\")\n",
    "        print(f\"Predicted Sentiment: {sentiment.upper()}\")\n",
    "        print(f\"Raw Model Response: '{raw_response}'\")\n",
    "        #print(f\"Confidence: {confidence}\")\n",
    "        print(\"-\" * 60)\n",
    "\n",
    "# Run interactive testing\n",
    "test_custom_reviews()"
   ]
  },
  {
   "cell_type": "code",
   "execution_count": 12,
   "metadata": {},
   "outputs": [
    {
     "name": "stdout",
     "output_type": "stream",
     "text": [
      "\n",
      "================================================================================\n",
      "PERFORMANCE SUMMARY & INSIGHTS\n",
      "================================================================================\n",
      "🎯 Overall Performance:\n",
      "   • Accuracy: 0.940 (94.0%)\n",
      "   • Total samples: 200\n",
      "   • Correct predictions: 188\n",
      "\n",
      "📊 Class-wise Performance:\n"
     ]
    },
    {
     "ename": "ZeroDivisionError",
     "evalue": "division by zero",
     "output_type": "error",
     "traceback": [
      "\u001b[0;31m---------------------------------------------------------------------------\u001b[0m",
      "\u001b[0;31mZeroDivisionError\u001b[0m                         Traceback (most recent call last)",
      "Cell \u001b[0;32mIn[12], line 32\u001b[0m\n\u001b[1;32m     29\u001b[0m     \u001b[38;5;28mprint\u001b[39m(\u001b[38;5;124mf\u001b[39m\u001b[38;5;124m\"\u001b[39m\u001b[38;5;124m   • Experiment with different prompt formats\u001b[39m\u001b[38;5;124m\"\u001b[39m)\n\u001b[1;32m     30\u001b[0m     \u001b[38;5;28mprint\u001b[39m(\u001b[38;5;124mf\u001b[39m\u001b[38;5;124m\"\u001b[39m\u001b[38;5;124m   • Use ensemble methods with multiple models\u001b[39m\u001b[38;5;124m\"\u001b[39m)\n\u001b[0;32m---> 32\u001b[0m \u001b[43mprint_performance_summary\u001b[49m\u001b[43m(\u001b[49m\u001b[43m)\u001b[49m\n",
      "Cell \u001b[0;32mIn[12], line 12\u001b[0m, in \u001b[0;36mprint_performance_summary\u001b[0;34m()\u001b[0m\n\u001b[1;32m      9\u001b[0m \u001b[38;5;28mprint\u001b[39m(\u001b[38;5;124mf\u001b[39m\u001b[38;5;124m\"\u001b[39m\u001b[38;5;124m   • Correct predictions: \u001b[39m\u001b[38;5;132;01m{\u001b[39;00m\u001b[38;5;28msum\u001b[39m(\u001b[38;5;241m1\u001b[39m\u001b[38;5;250m \u001b[39m\u001b[38;5;28;01mfor\u001b[39;00m\u001b[38;5;250m \u001b[39mp,\u001b[38;5;250m \u001b[39mt\u001b[38;5;250m \u001b[39m\u001b[38;5;129;01min\u001b[39;00m\u001b[38;5;250m \u001b[39m\u001b[38;5;28mzip\u001b[39m(predictions,\u001b[38;5;250m \u001b[39mtrue_labels)\u001b[38;5;250m \u001b[39m\u001b[38;5;28;01mif\u001b[39;00m\u001b[38;5;250m \u001b[39mp\u001b[38;5;250m \u001b[39m\u001b[38;5;241m==\u001b[39m\u001b[38;5;250m \u001b[39mt)\u001b[38;5;132;01m}\u001b[39;00m\u001b[38;5;124m\"\u001b[39m)\n\u001b[1;32m     11\u001b[0m \u001b[38;5;28mprint\u001b[39m(\u001b[38;5;124mf\u001b[39m\u001b[38;5;124m\"\u001b[39m\u001b[38;5;130;01m\\n\u001b[39;00m\u001b[38;5;124m📊 Class-wise Performance:\u001b[39m\u001b[38;5;124m\"\u001b[39m)\n\u001b[0;32m---> 12\u001b[0m \u001b[38;5;28mprint\u001b[39m(\u001b[38;5;124mf\u001b[39m\u001b[38;5;124m\"\u001b[39m\u001b[38;5;124m   • Positive reviews: \u001b[39m\u001b[38;5;132;01m{\u001b[39;00m\u001b[43mpos_correct\u001b[49m\u001b[38;5;241;43m/\u001b[39;49m\u001b[38;5;28;43mlen\u001b[39;49m\u001b[43m(\u001b[49m\u001b[43mpos_indices\u001b[49m\u001b[43m)\u001b[49m\u001b[38;5;132;01m:\u001b[39;00m\u001b[38;5;124m.3f\u001b[39m\u001b[38;5;132;01m}\u001b[39;00m\u001b[38;5;124m accuracy\u001b[39m\u001b[38;5;124m\"\u001b[39m)\n\u001b[1;32m     13\u001b[0m \u001b[38;5;28mprint\u001b[39m(\u001b[38;5;124mf\u001b[39m\u001b[38;5;124m\"\u001b[39m\u001b[38;5;124m   • Negative reviews: \u001b[39m\u001b[38;5;132;01m{\u001b[39;00mneg_correct\u001b[38;5;241m/\u001b[39m\u001b[38;5;28mlen\u001b[39m(neg_indices)\u001b[38;5;132;01m:\u001b[39;00m\u001b[38;5;124m.3f\u001b[39m\u001b[38;5;132;01m}\u001b[39;00m\u001b[38;5;124m accuracy\u001b[39m\u001b[38;5;124m\"\u001b[39m)\n\u001b[1;32m     15\u001b[0m \u001b[38;5;66;03m# Analyze response quality\u001b[39;00m\n",
      "\u001b[0;31mZeroDivisionError\u001b[0m: division by zero"
     ]
    }
   ],
   "source": [
    "def print_performance_summary():\n",
    "    print(f\"\\n{'='*80}\")\n",
    "    print(\"PERFORMANCE SUMMARY & INSIGHTS\")\n",
    "    print(f\"{'='*80}\")\n",
    "    \n",
    "    print(f\"🎯 Overall Performance:\")\n",
    "    print(f\"   • Accuracy: {accuracy:.3f} ({accuracy*100:.1f}%)\")\n",
    "    print(f\"   • Total samples: {len(predictions)}\")\n",
    "    print(f\"   • Correct predictions: {sum(1 for p, t in zip(predictions, true_labels) if p == t)}\")\n",
    "    \n",
    "    print(f\"\\n📊 Class-wise Performance:\")\n",
    "    print(f\"   • Positive reviews: {pos_correct/len(pos_indices):.3f} accuracy\")\n",
    "    print(f\"   • Negative reviews: {neg_correct/len(neg_indices):.3f} accuracy\")\n",
    "    \n",
    "    # Analyze response quality\n",
    "    clear_responses = sum(1 for r in raw_responses if r.strip() in ['positive', 'negative'])\n",
    "    print(f\"\\n🔍 Response Quality:\")\n",
    "    print(f\"   • Clear responses: {clear_responses}/{len(raw_responses)} ({clear_responses/len(raw_responses)*100:.1f}%)\")\n",
    "    \n",
    "    print(f\"\\n💡 Key Insights:\")\n",
    "    print(f\"   • The model performs zero-shot sentiment classification\")\n",
    "    print(f\"   • No fine-tuning was required\")\n",
    "    print(f\"   • Performance could be improved with few-shot prompting\")\n",
    "    print(f\"   • Model shows good understanding of movie review sentiment\")\n",
    "    \n",
    "    print(f\"\\n🚀 Potential Improvements:\")\n",
    "    print(f\"   • Add few-shot examples in the prompt\")\n",
    "    print(f\"   • Fine-tune on domain-specific data\")\n",
    "    print(f\"   • Experiment with different prompt formats\")\n",
    "    print(f\"   • Use ensemble methods with multiple models\")\n",
    "\n",
    "print_performance_summary()"
   ]
  },
  {
   "cell_type": "code",
   "execution_count": 14,
   "metadata": {},
   "outputs": [
    {
     "name": "stdout",
     "output_type": "stream",
     "text": [
      "\n",
      "================================================================================\n"
     ]
    }
   ],
   "source": [
    "def save_results():\n",
    "    \"\"\"Save evaluation results to files\"\"\"\n",
    "    results_df = pd.DataFrame({\n",
    "        'review_text': [dataset['test'][i]['text'] for i in range(len(predictions))],\n",
    "        'true_label': true_labels,\n",
    "        'predicted_label': predictions,\n",
    "        'true_sentiment': ['Positive' if l == 1 else 'Negative' for l in true_labels],\n",
    "        'predicted_sentiment': ['Positive' if l == 1 else 'Negative' for l in predictions],\n",
    "        'raw_response': raw_responses,\n",
    "        'correct': [p == t for p, t in zip(predictions, true_labels)]\n",
    "    })\n",
    "    \n",
    "    # Save to CSV\n",
    "    results_df.to_csv('imdb_sentiment_results.csv', index=False)\n",
    "    print(\"\\n💾 Results saved to 'imdb_sentiment_results.csv'\")\n",
    "    \n",
    "    # Save summary statistics\n",
    "    summary = {\n",
    "        'accuracy': float(accuracy),\n",
    "        'total_samples': len(predictions),\n",
    "        'correct_predictions': int(sum(1 for p, t in zip(predictions, true_labels) if p == t)),\n",
    "        'positive_accuracy': float(pos_correct/len(pos_indices)),\n",
    "        'negative_accuracy': float(neg_correct/len(neg_indices)),\n",
    "        'clear_responses': int(sum(1 for r in raw_responses if r.strip() in ['positive', 'negative']))\n",
    "    }\n",
    "    \n",
    "    with open('evaluation_summary.json', 'w') as f:\n",
    "        import json\n",
    "        json.dump(summary, f, indent=2)\n",
    "    \n",
    "    print(\"📊 Summary statistics saved to 'evaluation_summary.json'\")\n",
    "    return results_df\n",
    "\n",
    "# Uncomment the line below to save results\n",
    "# results_df = save_results()\n",
    "\n",
    "print(f\"\\n{'='*80}\")"
   ]
  }
 ],
 "metadata": {
  "kernelspec": {
   "display_name": "glot_env",
   "language": "python",
   "name": "python3"
  },
  "language_info": {
   "codemirror_mode": {
    "name": "ipython",
    "version": 3
   },
   "file_extension": ".py",
   "mimetype": "text/x-python",
   "name": "python",
   "nbconvert_exporter": "python",
   "pygments_lexer": "ipython3",
   "version": "3.10.18"
  }
 },
 "nbformat": 4,
 "nbformat_minor": 2
}
