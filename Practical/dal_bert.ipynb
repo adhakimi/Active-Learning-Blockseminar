{
 "cells": [
  {
   "cell_type": "code",
   "execution_count": 2,
   "metadata": {},
   "outputs": [
    {
     "name": "stdout",
     "output_type": "stream",
     "text": [
      "Using device: cuda\n"
     ]
    }
   ],
   "source": [
    "import numpy as np\n",
    "import pandas as pd\n",
    "import torch\n",
    "import torch.nn as nn\n",
    "from torch.utils.data import DataLoader, Dataset\n",
    "from transformers import AutoTokenizer, AutoModel, AutoConfig\n",
    "from sklearn.model_selection import train_test_split\n",
    "from sklearn.metrics import accuracy_score, f1_score, roc_auc_score\n",
    "from datasets import load_dataset\n",
    "import matplotlib.pyplot as plt\n",
    "import seaborn as sns\n",
    "from tqdm import tqdm\n",
    "import random\n",
    "import warnings\n",
    "warnings.filterwarnings('ignore')\n",
    "\n",
    "# Set random seeds for reproducibility\n",
    "def set_seeds(seed=42):\n",
    "    random.seed(seed)\n",
    "    np.random.seed(seed)\n",
    "    torch.manual_seed(seed)\n",
    "    if torch.cuda.is_available():\n",
    "        torch.cuda.manual_seed(seed)\n",
    "\n",
    "set_seeds(42)\n",
    "\n",
    "# Check device\n",
    "device = torch.device('cuda' if torch.cuda.is_available() else 'cpu')\n",
    "print(f\"Using device: {device}\")"
   ]
  },
  {
   "cell_type": "code",
   "execution_count": 3,
   "metadata": {},
   "outputs": [],
   "source": [
    "# ====================================================================\n",
    "# 1. DATA PREPARATION\n",
    "# ====================================================================\n",
    "\n",
    "class TextDataset(Dataset):\n",
    "    def __init__(self, texts, labels, tokenizer, max_length=512):\n",
    "        self.texts = texts\n",
    "        self.labels = labels\n",
    "        self.tokenizer = tokenizer\n",
    "        self.max_length = max_length\n",
    "    \n",
    "    def __len__(self):\n",
    "        return len(self.texts)\n",
    "    \n",
    "    def __getitem__(self, idx):\n",
    "        text = str(self.texts[idx])\n",
    "        label = self.labels[idx]\n",
    "        \n",
    "        encoding = self.tokenizer(\n",
    "            text,\n",
    "            truncation=True,\n",
    "            padding='max_length',\n",
    "            max_length=self.max_length,\n",
    "            return_tensors='pt'\n",
    "        )\n",
    "        \n",
    "        return {\n",
    "            'input_ids': encoding['input_ids'].flatten(),\n",
    "            'attention_mask': encoding['attention_mask'].flatten(),\n",
    "            'label': torch.tensor(label, dtype=torch.long)\n",
    "        }\n",
    "        \n",
    "def load_imdb_dataset(n_samples=2000):\n",
    "    \"\"\"\n",
    "    Load IMDb movie review dataset\n",
    "    \"\"\"\n",
    "    # Load the IMDb dataset\n",
    "    dataset = load_dataset(\"imdb\")\n",
    "    \n",
    "    # Combine train and test for our active learning experiment\n",
    "    all_texts = dataset['train']['text'] + dataset['test']['text']\n",
    "    all_labels = dataset['train']['label'] + dataset['test']['label']\n",
    "    \n",
    "    # Sample n_samples if dataset is larger\n",
    "    if len(all_texts) > n_samples:\n",
    "        indices = random.sample(range(len(all_texts)), n_samples)\n",
    "        texts = [all_texts[i] for i in indices]\n",
    "        labels = [all_labels[i] for i in indices]\n",
    "    else:\n",
    "        texts, labels = all_texts, all_labels\n",
    "    \n",
    "    print(f\"✓ Successfully loaded IMDb dataset\")\n",
    "    return texts, labels"
   ]
  },
  {
   "cell_type": "code",
   "execution_count": 14,
   "metadata": {},
   "outputs": [
    {
     "name": "stdout",
     "output_type": "stream",
     "text": [
      "Loading IMDb dataset...\n",
      "Loading IMDb dataset from Hugging Face...\n",
      "✓ Successfully loaded IMDb dataset\n",
      "Dataset size: 10000 samples\n",
      "Label distribution: {0: 5059, 1: 4941}\n",
      "\\nSample reviews:\n",
      "1. [Positive] Though this is a good, enjoyable cartoon, they did much better ones later on, like Carrotblanca. Thi...\n",
      "2. [Positive] This an free adaptation of the novels of Clarence Mulford; fans of the Willaim Boyd films will proba...\n",
      "Train size: 8000\n",
      "Test size: 2000\n"
     ]
    }
   ],
   "source": [
    "# Load and prepare data\n",
    "print(\"Loading IMDb dataset...\")\n",
    "texts, labels = load_imdb_dataset(n_samples=10000)\n",
    "print(f\"Dataset size: {len(texts)} samples\")\n",
    "print(f\"Label distribution: {pd.Series(labels).value_counts().to_dict()}\")\n",
    "\n",
    "# Show sample reviews\n",
    "print(\"\\\\nSample reviews:\")\n",
    "for i in range(2):\n",
    "    label_text = \"Positive\" if labels[i] == 1 else \"Negative\"\n",
    "    print(f\"{i+1}. [{label_text}] {texts[i][:100]}...\")\n",
    "\n",
    "\n",
    "# Split into train and test\n",
    "train_texts, test_texts, train_labels, test_labels = train_test_split(\n",
    "    texts, labels, test_size=0.2, random_state=42, stratify=labels\n",
    ")\n",
    "\n",
    "print(f\"Train size: {len(train_texts)}\")\n",
    "print(f\"Test size: {len(test_texts)}\")"
   ]
  },
  {
   "cell_type": "code",
   "execution_count": 15,
   "metadata": {},
   "outputs": [],
   "source": [
    "class BERTClassifier(nn.Module):\n",
    "    def __init__(self, model_name='bert-base-uncased', num_classes=2, dropout=0.1):\n",
    "        super(BERTClassifier, self).__init__()\n",
    "        self.bert = AutoModel.from_pretrained(model_name)\n",
    "        self.dropout = nn.Dropout(dropout)\n",
    "        self.classifier = nn.Linear(self.bert.config.hidden_size, num_classes)\n",
    "        \n",
    "    def forward(self, input_ids, attention_mask, return_hidden=False):\n",
    "        outputs = self.bert(input_ids=input_ids, attention_mask=attention_mask)\n",
    "        pooled_output = outputs.pooler_output\n",
    "        pooled_output = self.dropout(pooled_output)\n",
    "        logits = self.classifier(pooled_output)\n",
    "        \n",
    "        if return_hidden:\n",
    "            return logits, pooled_output\n",
    "        return logits\n",
    "\n",
    "def train_model(model, train_loader, val_loader, epochs=3, lr=2e-5):\n",
    "    \"\"\"Train BERT classifier\"\"\"\n",
    "    optimizer = torch.optim.AdamW(model.parameters(), lr=lr)\n",
    "    criterion = nn.CrossEntropyLoss()\n",
    "    \n",
    "    model.train()\n",
    "    best_val_acc = 0\n",
    "    \n",
    "    for epoch in range(epochs):\n",
    "        total_loss = 0\n",
    "        model.train()\n",
    "        \n",
    "        for batch in tqdm(train_loader, desc=f'Epoch {epoch+1}/{epochs}'):\n",
    "            input_ids = batch['input_ids'].to(device)\n",
    "            attention_mask = batch['attention_mask'].to(device)\n",
    "            labels = batch['label'].to(device)\n",
    "            \n",
    "            optimizer.zero_grad()\n",
    "            logits = model(input_ids, attention_mask)\n",
    "            loss = criterion(logits, labels)\n",
    "            loss.backward()\n",
    "            optimizer.step()\n",
    "            \n",
    "            total_loss += loss.item()\n",
    "        \n",
    "        # Validation\n",
    "        val_acc = evaluate_model(model, val_loader)\n",
    "        print(f'Epoch {epoch+1}: Loss = {total_loss/len(train_loader):.4f}, Val Acc = {val_acc:.4f}')\n",
    "        \n",
    "        if val_acc > best_val_acc:\n",
    "            best_val_acc = val_acc\n",
    "            torch.save(model.state_dict(), 'best_model.pth')\n",
    "    \n",
    "    # Load best model\n",
    "    model.load_state_dict(torch.load('best_model.pth'))\n",
    "    return model\n",
    "\n",
    "def evaluate_model(model, data_loader):\n",
    "    \"\"\"Evaluate model performance\"\"\"\n",
    "    model.eval()\n",
    "    predictions, true_labels = [], []\n",
    "    \n",
    "    with torch.no_grad():\n",
    "        for batch in data_loader:\n",
    "            input_ids = batch['input_ids'].to(device)\n",
    "            attention_mask = batch['attention_mask'].to(device)\n",
    "            labels = batch['label'].to(device)\n",
    "            \n",
    "            logits = model(input_ids, attention_mask)\n",
    "            preds = torch.argmax(logits, dim=1)\n",
    "            \n",
    "            predictions.extend(preds.cpu().numpy())\n",
    "            true_labels.extend(labels.cpu().numpy())\n",
    "    \n",
    "    return accuracy_score(true_labels, predictions)"
   ]
  },
  {
   "cell_type": "code",
   "execution_count": 16,
   "metadata": {},
   "outputs": [],
   "source": [
    "# ====================================================================\n",
    "# 3. ACTIVE LEARNING STRATEGIES\n",
    "# ====================================================================\n",
    "\n",
    "class ActiveLearner:\n",
    "    def __init__(self, model, tokenizer, device):\n",
    "        self.model = model\n",
    "        self.tokenizer = tokenizer\n",
    "        self.device = device\n",
    "    \n",
    "    def uncertainty_sampling(self, unlabeled_texts, n_samples=50, method='entropy'):\n",
    "        \"\"\"\n",
    "        Uncertainty-based query strategy for BERT\n",
    "        \"\"\"\n",
    "        self.model.eval()\n",
    "        uncertainties = []\n",
    "        \n",
    "        # Create dataset and dataloader for unlabeled data\n",
    "        unlabeled_dataset = TextDataset(\n",
    "            unlabeled_texts, \n",
    "            [0] * len(unlabeled_texts),  # dummy labels\n",
    "            self.tokenizer\n",
    "        )\n",
    "        unlabeled_loader = DataLoader(unlabeled_dataset, batch_size=32, shuffle=False)\n",
    "        \n",
    "        with torch.no_grad():\n",
    "            for batch in unlabeled_loader:\n",
    "                input_ids = batch['input_ids'].to(self.device)\n",
    "                attention_mask = batch['attention_mask'].to(self.device)\n",
    "                \n",
    "                logits = self.model(input_ids, attention_mask)\n",
    "                probs = torch.softmax(logits, dim=1)\n",
    "                \n",
    "                if method == 'entropy':\n",
    "                    # Calculate entropy\n",
    "                    entropy = -torch.sum(probs * torch.log(probs + 1e-10), dim=1)\n",
    "                    uncertainties.extend(entropy.cpu().numpy())\n",
    "                \n",
    "                elif method == 'least_confidence':\n",
    "                    # Least confidence sampling\n",
    "                    max_probs = torch.max(probs, dim=1)[0]\n",
    "                    confidence = 1 - max_probs\n",
    "                    uncertainties.extend(confidence.cpu().numpy())\n",
    "        \n",
    "        # Select most uncertain samples\n",
    "        uncertain_indices = np.argsort(uncertainties)[-n_samples:]\n",
    "        return uncertain_indices\n",
    "    \n",
    "    # def dropout_uncertainty(self, unlabeled_texts, n_samples=50, n_forward_passes=10):\n",
    "    #     \"\"\"\n",
    "    #     Monte Carlo Dropout for uncertainty estimation\n",
    "    #     \"\"\"\n",
    "    #     self.model.train()  # Keep dropout active\n",
    "    #     all_predictions = []\n",
    "        \n",
    "    #     unlabeled_dataset = TextDataset(\n",
    "    #         unlabeled_texts, \n",
    "    #         [0] * len(unlabeled_texts),\n",
    "    #         self.tokenizer\n",
    "    #     )\n",
    "    #     unlabeled_loader = DataLoader(unlabeled_dataset, batch_size=32, shuffle=False)\n",
    "        \n",
    "    #     # Multiple forward passes with dropout\n",
    "    #     for _ in range(n_forward_passes):\n",
    "    #         predictions = []\n",
    "    #         with torch.no_grad():\n",
    "    #             for batch in unlabeled_loader:\n",
    "    #                 input_ids = batch['input_ids'].to(self.device)\n",
    "    #                 attention_mask = batch['attention_mask'].to(self.device)\n",
    "                    \n",
    "    #                 logits = self.model(input_ids, attention_mask)\n",
    "    #                 probs = torch.softmax(logits, dim=1)\n",
    "    #                 predictions.append(probs.cpu().numpy())\n",
    "            \n",
    "    #         all_predictions.append(np.vstack(predictions))\n",
    "        \n",
    "    #     # Calculate uncertainty as variance across predictions\n",
    "    #     all_predictions = np.array(all_predictions)  # shape: (n_passes, n_samples, n_classes)\n",
    "    #     variance = np.var(all_predictions, axis=0)  # variance across forward passes\n",
    "    #     uncertainty = np.mean(variance, axis=1)  # mean variance across classes\n",
    "        \n",
    "    #     # Select most uncertain samples\n",
    "    #     uncertain_indices = np.argsort(uncertainty)[-n_samples:]\n",
    "    #     self.model.eval()  # Back to eval mode\n",
    "    #     return uncertain_indices\n"
   ]
  },
  {
   "cell_type": "code",
   "execution_count": 17,
   "metadata": {},
   "outputs": [],
   "source": [
    "# ====================================================================\n",
    "# 4. ACTIVE LEARNING PIPELINE\n",
    "# ====================================================================\n",
    "\n",
    "def active_learning_pipeline(train_texts, train_labels, test_texts, test_labels, \n",
    "                           initial_pool_size=100, query_size=50, max_iterations=10):\n",
    "    \"\"\"\n",
    "    Complete Active Learning Pipeline with BERT\n",
    "    \"\"\"\n",
    "    # Initialize tokenizer and model\n",
    "    tokenizer = AutoTokenizer.from_pretrained('bert-base-uncased')\n",
    "    model = BERTClassifier().to(device)\n",
    "    active_learner = ActiveLearner(model, tokenizer, device)\n",
    "    \n",
    "    # Prepare test dataset\n",
    "    test_dataset = TextDataset(test_texts, test_labels, tokenizer)\n",
    "    test_loader = DataLoader(test_dataset, batch_size=32, shuffle=False)\n",
    "    \n",
    "    # Initialize pools\n",
    "    indices = list(range(len(train_texts)))\n",
    "    random.shuffle(indices)\n",
    "    \n",
    "    labeled_indices = indices[:initial_pool_size]\n",
    "    unlabeled_indices = indices[initial_pool_size:]\n",
    "    \n",
    "    results = {\n",
    "        'iteration': [],\n",
    "        'labeled_size': [],\n",
    "        'accuracy': [],\n",
    "        'f1_score': [],\n",
    "        'query_strategy': []\n",
    "    }\n",
    "    \n",
    "    print(f\"Starting Active Learning with {initial_pool_size} initial samples...\")\n",
    "    \n",
    "    for iteration in range(max_iterations):\n",
    "        print(f\"\\n--- Iteration {iteration + 1} ---\")\n",
    "        print(f\"Labeled pool size: {len(labeled_indices)}\")\n",
    "        print(f\"Unlabeled pool size: {len(unlabeled_indices)}\")\n",
    "        \n",
    "        # Prepare current labeled data\n",
    "        current_texts = [train_texts[i] for i in labeled_indices]\n",
    "        current_labels = [train_labels[i] for i in labeled_indices]\n",
    "        \n",
    "        # Create datasets and loaders\n",
    "        labeled_dataset = TextDataset(current_texts, current_labels, tokenizer)\n",
    "        train_loader = DataLoader(labeled_dataset, batch_size=16, shuffle=True)\n",
    "        \n",
    "        # Train model on current labeled data\n",
    "        model = BERTClassifier().to(device)  # Reinitialize for each iteration\n",
    "        model = train_model(model, train_loader, test_loader, epochs=3)\n",
    "        \n",
    "        # Evaluate on test set\n",
    "        test_accuracy = evaluate_model(model, test_loader)\n",
    "        \n",
    "        # Calculate F1 score\n",
    "        model.eval()\n",
    "        predictions, true_labels = [], []\n",
    "        with torch.no_grad():\n",
    "            for batch in test_loader:\n",
    "                input_ids = batch['input_ids'].to(device)\n",
    "                attention_mask = batch['attention_mask'].to(device)\n",
    "                labels = batch['label'].to(device)\n",
    "                \n",
    "                logits = model(input_ids, attention_mask)\n",
    "                preds = torch.argmax(logits, dim=1)\n",
    "                \n",
    "                predictions.extend(preds.cpu().numpy())\n",
    "                true_labels.extend(labels.cpu().numpy())\n",
    "        \n",
    "        f1 = f1_score(true_labels, predictions, average='weighted')\n",
    "        \n",
    "        print(f\"Test Accuracy: {test_accuracy:.4f}\")\n",
    "        print(f\"Test F1 Score: {f1:.4f}\")\n",
    "        \n",
    "        # Store results\n",
    "        results['iteration'].append(iteration + 1)\n",
    "        results['labeled_size'].append(len(labeled_indices))\n",
    "        results['accuracy'].append(test_accuracy)\n",
    "        results['f1_score'].append(f1)\n",
    "        results['query_strategy'].append('entropy')\n",
    "        \n",
    "        # Query new samples (if not last iteration)\n",
    "        if iteration < max_iterations - 1 and len(unlabeled_indices) > 0:\n",
    "            unlabeled_texts = [train_texts[i] for i in unlabeled_indices]\n",
    "            \n",
    "            # Use uncertainty sampling\n",
    "            query_indices = active_learner.uncertainty_sampling(\n",
    "                unlabeled_texts, \n",
    "                n_samples=min(query_size, len(unlabeled_indices))\n",
    "            )\n",
    "            \n",
    "            # Move queried samples to labeled pool\n",
    "            selected_indices = [unlabeled_indices[i] for i in query_indices]\n",
    "            labeled_indices.extend(selected_indices)\n",
    "            \n",
    "            # Remove from unlabeled pool\n",
    "            unlabeled_indices = [idx for i, idx in enumerate(unlabeled_indices) \n",
    "                               if i not in query_indices]\n",
    "    \n",
    "    return results, model"
   ]
  },
  {
   "cell_type": "code",
   "execution_count": 18,
   "metadata": {},
   "outputs": [
    {
     "name": "stdout",
     "output_type": "stream",
     "text": [
      "Starting BERT Active Learning Experiment...\n",
      "Starting Active Learning with 100 initial samples...\n",
      "\n",
      "--- Iteration 1 ---\n",
      "Labeled pool size: 100\n",
      "Unlabeled pool size: 7900\n"
     ]
    },
    {
     "name": "stderr",
     "output_type": "stream",
     "text": [
      "Epoch 1/3: 100%|██████████| 7/7 [00:02<00:00,  3.35it/s]\n"
     ]
    },
    {
     "name": "stdout",
     "output_type": "stream",
     "text": [
      "Epoch 1: Loss = 0.6816, Val Acc = 0.4940\n"
     ]
    },
    {
     "name": "stderr",
     "output_type": "stream",
     "text": [
      "Epoch 2/3: 100%|██████████| 7/7 [00:02<00:00,  3.32it/s]\n"
     ]
    },
    {
     "name": "stdout",
     "output_type": "stream",
     "text": [
      "Epoch 2: Loss = 0.7131, Val Acc = 0.4940\n"
     ]
    },
    {
     "name": "stderr",
     "output_type": "stream",
     "text": [
      "Epoch 3/3: 100%|██████████| 7/7 [00:02<00:00,  3.30it/s]\n"
     ]
    },
    {
     "name": "stdout",
     "output_type": "stream",
     "text": [
      "Epoch 3: Loss = 0.5901, Val Acc = 0.6385\n",
      "Test Accuracy: 0.6385\n",
      "Test F1 Score: 0.6094\n",
      "\n",
      "--- Iteration 2 ---\n",
      "Labeled pool size: 150\n",
      "Unlabeled pool size: 7850\n"
     ]
    },
    {
     "name": "stderr",
     "output_type": "stream",
     "text": [
      "Epoch 1/3: 100%|██████████| 10/10 [00:03<00:00,  3.10it/s]\n"
     ]
    },
    {
     "name": "stdout",
     "output_type": "stream",
     "text": [
      "Epoch 1: Loss = 0.7013, Val Acc = 0.6130\n"
     ]
    },
    {
     "name": "stderr",
     "output_type": "stream",
     "text": [
      "Epoch 2/3: 100%|██████████| 10/10 [00:03<00:00,  3.12it/s]\n"
     ]
    },
    {
     "name": "stdout",
     "output_type": "stream",
     "text": [
      "Epoch 2: Loss = 0.6394, Val Acc = 0.6180\n"
     ]
    },
    {
     "name": "stderr",
     "output_type": "stream",
     "text": [
      "Epoch 3/3: 100%|██████████| 10/10 [00:03<00:00,  3.12it/s]\n"
     ]
    },
    {
     "name": "stdout",
     "output_type": "stream",
     "text": [
      "Epoch 3: Loss = 0.5514, Val Acc = 0.6760\n",
      "Test Accuracy: 0.6760\n",
      "Test F1 Score: 0.6475\n",
      "\n",
      "--- Iteration 3 ---\n",
      "Labeled pool size: 200\n",
      "Unlabeled pool size: 7800\n"
     ]
    },
    {
     "name": "stderr",
     "output_type": "stream",
     "text": [
      "Epoch 1/3: 100%|██████████| 13/13 [00:04<00:00,  3.04it/s]\n"
     ]
    },
    {
     "name": "stdout",
     "output_type": "stream",
     "text": [
      "Epoch 1: Loss = 0.7155, Val Acc = 0.5440\n"
     ]
    },
    {
     "name": "stderr",
     "output_type": "stream",
     "text": [
      "Epoch 2/3: 100%|██████████| 13/13 [00:04<00:00,  3.05it/s]\n"
     ]
    },
    {
     "name": "stdout",
     "output_type": "stream",
     "text": [
      "Epoch 2: Loss = 0.6257, Val Acc = 0.6750\n"
     ]
    },
    {
     "name": "stderr",
     "output_type": "stream",
     "text": [
      "Epoch 3/3: 100%|██████████| 13/13 [00:04<00:00,  3.05it/s]\n"
     ]
    },
    {
     "name": "stdout",
     "output_type": "stream",
     "text": [
      "Epoch 3: Loss = 0.4863, Val Acc = 0.6855\n",
      "Test Accuracy: 0.6855\n",
      "Test F1 Score: 0.6571\n",
      "\n",
      "--- Iteration 4 ---\n",
      "Labeled pool size: 250\n",
      "Unlabeled pool size: 7750\n"
     ]
    },
    {
     "name": "stderr",
     "output_type": "stream",
     "text": [
      "Epoch 1/3: 100%|██████████| 16/16 [00:05<00:00,  3.00it/s]\n"
     ]
    },
    {
     "name": "stdout",
     "output_type": "stream",
     "text": [
      "Epoch 1: Loss = 0.6906, Val Acc = 0.5700\n"
     ]
    },
    {
     "name": "stderr",
     "output_type": "stream",
     "text": [
      "Epoch 2/3: 100%|██████████| 16/16 [00:05<00:00,  3.02it/s]\n"
     ]
    },
    {
     "name": "stdout",
     "output_type": "stream",
     "text": [
      "Epoch 2: Loss = 0.6070, Val Acc = 0.7175\n"
     ]
    },
    {
     "name": "stderr",
     "output_type": "stream",
     "text": [
      "Epoch 3/3: 100%|██████████| 16/16 [00:05<00:00,  3.01it/s]\n"
     ]
    },
    {
     "name": "stdout",
     "output_type": "stream",
     "text": [
      "Epoch 3: Loss = 0.4752, Val Acc = 0.7815\n",
      "Test Accuracy: 0.7815\n",
      "Test F1 Score: 0.7799\n",
      "\n",
      "--- Iteration 5 ---\n",
      "Labeled pool size: 300\n",
      "Unlabeled pool size: 7700\n"
     ]
    },
    {
     "name": "stderr",
     "output_type": "stream",
     "text": [
      "Epoch 1/3: 100%|██████████| 19/19 [00:06<00:00,  2.99it/s]\n"
     ]
    },
    {
     "name": "stdout",
     "output_type": "stream",
     "text": [
      "Epoch 1: Loss = 0.6989, Val Acc = 0.5855\n"
     ]
    },
    {
     "name": "stderr",
     "output_type": "stream",
     "text": [
      "Epoch 2/3: 100%|██████████| 19/19 [00:06<00:00,  2.99it/s]\n"
     ]
    },
    {
     "name": "stdout",
     "output_type": "stream",
     "text": [
      "Epoch 2: Loss = 0.6201, Val Acc = 0.7070\n"
     ]
    },
    {
     "name": "stderr",
     "output_type": "stream",
     "text": [
      "Epoch 3/3: 100%|██████████| 19/19 [00:06<00:00,  2.99it/s]\n"
     ]
    },
    {
     "name": "stdout",
     "output_type": "stream",
     "text": [
      "Epoch 3: Loss = 0.4342, Val Acc = 0.8485\n",
      "Test Accuracy: 0.8485\n",
      "Test F1 Score: 0.8474\n",
      "\n",
      "--- Iteration 6 ---\n",
      "Labeled pool size: 350\n",
      "Unlabeled pool size: 7650\n"
     ]
    },
    {
     "name": "stderr",
     "output_type": "stream",
     "text": [
      "Epoch 1/3: 100%|██████████| 22/22 [00:07<00:00,  3.00it/s]\n"
     ]
    },
    {
     "name": "stdout",
     "output_type": "stream",
     "text": [
      "Epoch 1: Loss = 0.7015, Val Acc = 0.5060\n"
     ]
    },
    {
     "name": "stderr",
     "output_type": "stream",
     "text": [
      "Epoch 2/3: 100%|██████████| 22/22 [00:07<00:00,  3.01it/s]\n"
     ]
    },
    {
     "name": "stdout",
     "output_type": "stream",
     "text": [
      "Epoch 2: Loss = 0.6038, Val Acc = 0.8300\n"
     ]
    },
    {
     "name": "stderr",
     "output_type": "stream",
     "text": [
      "Epoch 3/3: 100%|██████████| 22/22 [00:07<00:00,  3.01it/s]\n"
     ]
    },
    {
     "name": "stdout",
     "output_type": "stream",
     "text": [
      "Epoch 3: Loss = 0.3055, Val Acc = 0.7980\n",
      "Test Accuracy: 0.8300\n",
      "Test F1 Score: 0.8262\n",
      "\n",
      "--- Iteration 7 ---\n",
      "Labeled pool size: 400\n",
      "Unlabeled pool size: 7600\n"
     ]
    },
    {
     "name": "stderr",
     "output_type": "stream",
     "text": [
      "Epoch 1/3: 100%|██████████| 25/25 [00:08<00:00,  2.98it/s]\n"
     ]
    },
    {
     "name": "stdout",
     "output_type": "stream",
     "text": [
      "Epoch 1: Loss = 0.6993, Val Acc = 0.5070\n"
     ]
    },
    {
     "name": "stderr",
     "output_type": "stream",
     "text": [
      "Epoch 2/3: 100%|██████████| 25/25 [00:08<00:00,  2.99it/s]\n"
     ]
    },
    {
     "name": "stdout",
     "output_type": "stream",
     "text": [
      "Epoch 2: Loss = 0.6246, Val Acc = 0.8645\n"
     ]
    },
    {
     "name": "stderr",
     "output_type": "stream",
     "text": [
      "Epoch 3/3: 100%|██████████| 25/25 [00:08<00:00,  2.99it/s]\n"
     ]
    },
    {
     "name": "stdout",
     "output_type": "stream",
     "text": [
      "Epoch 3: Loss = 0.4264, Val Acc = 0.8765\n",
      "Test Accuracy: 0.8765\n",
      "Test F1 Score: 0.8763\n",
      "\n",
      "--- Iteration 8 ---\n",
      "Labeled pool size: 450\n",
      "Unlabeled pool size: 7550\n"
     ]
    },
    {
     "name": "stderr",
     "output_type": "stream",
     "text": [
      "Epoch 1/3: 100%|██████████| 29/29 [00:09<00:00,  3.07it/s]\n"
     ]
    },
    {
     "name": "stdout",
     "output_type": "stream",
     "text": [
      "Epoch 1: Loss = 0.6899, Val Acc = 0.7045\n"
     ]
    },
    {
     "name": "stderr",
     "output_type": "stream",
     "text": [
      "Epoch 2/3: 100%|██████████| 29/29 [00:09<00:00,  3.07it/s]\n"
     ]
    },
    {
     "name": "stdout",
     "output_type": "stream",
     "text": [
      "Epoch 2: Loss = 0.5149, Val Acc = 0.8745\n"
     ]
    },
    {
     "name": "stderr",
     "output_type": "stream",
     "text": [
      "Epoch 3/3: 100%|██████████| 29/29 [00:09<00:00,  3.08it/s]\n"
     ]
    },
    {
     "name": "stdout",
     "output_type": "stream",
     "text": [
      "Epoch 3: Loss = 0.2419, Val Acc = 0.8670\n",
      "Test Accuracy: 0.8745\n",
      "Test F1 Score: 0.8741\n",
      "\n",
      "Active Learning Results:\n",
      "   iteration  labeled_size  accuracy  f1_score query_strategy\n",
      "0          1           100    0.6385  0.609389        entropy\n",
      "1          2           150    0.6760  0.647474        entropy\n",
      "2          3           200    0.6855  0.657066        entropy\n",
      "3          4           250    0.7815  0.779935        entropy\n",
      "4          5           300    0.8485  0.847391        entropy\n",
      "5          6           350    0.8300  0.826192        entropy\n",
      "6          7           400    0.8765  0.876259        entropy\n",
      "7          8           450    0.8745  0.874073        entropy\n"
     ]
    },
    {
     "data": {
      "image/png": "[encoded data removed]",
      "text/plain": [
       "<Figure size 1500x500 with 2 Axes>"
      ]
     },
     "metadata": {},
     "output_type": "display_data"
    }
   ],
   "source": [
    "# ====================================================================\n",
    "# 5. RUN ACTIVE LEARNING EXPERIMENT\n",
    "# ====================================================================\n",
    "\n",
    "print(\"Starting BERT Active Learning Experiment...\")\n",
    "results, final_model = active_learning_pipeline(\n",
    "    train_texts, train_labels, test_texts, test_labels,\n",
    "    initial_pool_size=100, query_size=50, max_iterations=8\n",
    ")\n",
    "\n",
    "# ====================================================================\n",
    "# 6. VISUALIZATION AND ANALYSIS\n",
    "# ====================================================================\n",
    "\n",
    "# Convert results to DataFrame\n",
    "results_df = pd.DataFrame(results)\n",
    "print(\"\\nActive Learning Results:\")\n",
    "print(results_df)\n",
    "\n",
    "# Plot learning curves\n",
    "fig, (ax1, ax2) = plt.subplots(1, 2, figsize=(15, 5))\n",
    "\n",
    "# Accuracy curve\n",
    "ax1.plot(results_df['labeled_size'], results_df['accuracy'], 'b-o', linewidth=2, markersize=8)\n",
    "ax1.set_xlabel('Labeled Training Samples')\n",
    "ax1.set_ylabel('Test Accuracy')\n",
    "ax1.set_title('BERT Active Learning: Accuracy vs Training Size')\n",
    "ax1.grid(True, alpha=0.3)\n",
    "\n",
    "# F1 Score curve\n",
    "ax2.plot(results_df['labeled_size'], results_df['f1_score'], 'r-o', linewidth=2, markersize=8)\n",
    "ax2.set_xlabel('Labeled Training Samples')\n",
    "ax2.set_ylabel('Test F1 Score')\n",
    "ax2.set_title('BERT Active Learning: F1 Score vs Training Size')\n",
    "ax2.grid(True, alpha=0.3)\n",
    "\n",
    "plt.tight_layout()\n",
    "plt.show()"
   ]
  },
  {
   "cell_type": "code",
   "execution_count": 19,
   "metadata": {},
   "outputs": [
    {
     "name": "stdout",
     "output_type": "stream",
     "text": [
      "\n",
      "Training with 100 random samples...\n"
     ]
    },
    {
     "name": "stderr",
     "output_type": "stream",
     "text": [
      "Epoch 1/3: 100%|██████████| 7/7 [00:02<00:00,  3.29it/s]\n"
     ]
    },
    {
     "name": "stdout",
     "output_type": "stream",
     "text": [
      "Epoch 1: Loss = 0.6951, Val Acc = 0.4970\n"
     ]
    },
    {
     "name": "stderr",
     "output_type": "stream",
     "text": [
      "Epoch 2/3: 100%|██████████| 7/7 [00:02<00:00,  3.29it/s]\n"
     ]
    },
    {
     "name": "stdout",
     "output_type": "stream",
     "text": [
      "Epoch 2: Loss = 0.5744, Val Acc = 0.7055\n"
     ]
    },
    {
     "name": "stderr",
     "output_type": "stream",
     "text": [
      "Epoch 3/3: 100%|██████████| 7/7 [00:02<00:00,  3.29it/s]\n"
     ]
    },
    {
     "name": "stdout",
     "output_type": "stream",
     "text": [
      "Epoch 3: Loss = 0.4269, Val Acc = 0.6805\n",
      "Accuracy: 0.7055, F1: 0.7052\n",
      "\n",
      "Training with 200 random samples...\n"
     ]
    },
    {
     "name": "stderr",
     "output_type": "stream",
     "text": [
      "Epoch 1/3: 100%|██████████| 13/13 [00:04<00:00,  3.05it/s]\n"
     ]
    },
    {
     "name": "stdout",
     "output_type": "stream",
     "text": [
      "Epoch 1: Loss = 0.6955, Val Acc = 0.5680\n"
     ]
    },
    {
     "name": "stderr",
     "output_type": "stream",
     "text": [
      "Epoch 2/3: 100%|██████████| 13/13 [00:04<00:00,  3.06it/s]\n"
     ]
    },
    {
     "name": "stdout",
     "output_type": "stream",
     "text": [
      "Epoch 2: Loss = 0.6285, Val Acc = 0.8335\n"
     ]
    },
    {
     "name": "stderr",
     "output_type": "stream",
     "text": [
      "Epoch 3/3: 100%|██████████| 13/13 [00:04<00:00,  3.04it/s]\n"
     ]
    },
    {
     "name": "stdout",
     "output_type": "stream",
     "text": [
      "Epoch 3: Loss = 0.4222, Val Acc = 0.8615\n",
      "Accuracy: 0.8615, F1: 0.8612\n",
      "\n",
      "Training with 300 random samples...\n"
     ]
    },
    {
     "name": "stderr",
     "output_type": "stream",
     "text": [
      "Epoch 1/3: 100%|██████████| 19/19 [00:06<00:00,  2.99it/s]\n"
     ]
    },
    {
     "name": "stdout",
     "output_type": "stream",
     "text": [
      "Epoch 1: Loss = 0.6842, Val Acc = 0.5025\n"
     ]
    },
    {
     "name": "stderr",
     "output_type": "stream",
     "text": [
      "Epoch 2/3: 100%|██████████| 19/19 [00:06<00:00,  3.00it/s]\n"
     ]
    },
    {
     "name": "stdout",
     "output_type": "stream",
     "text": [
      "Epoch 2: Loss = 0.5351, Val Acc = 0.8065\n"
     ]
    },
    {
     "name": "stderr",
     "output_type": "stream",
     "text": [
      "Epoch 3/3: 100%|██████████| 19/19 [00:06<00:00,  3.00it/s]\n"
     ]
    },
    {
     "name": "stdout",
     "output_type": "stream",
     "text": [
      "Epoch 3: Loss = 0.3781, Val Acc = 0.7675\n",
      "Accuracy: 0.8065, F1: 0.8023\n",
      "\n",
      "Training with 400 random samples...\n"
     ]
    },
    {
     "name": "stderr",
     "output_type": "stream",
     "text": [
      "Epoch 1/3: 100%|██████████| 25/25 [00:08<00:00,  2.93it/s]\n"
     ]
    },
    {
     "name": "stdout",
     "output_type": "stream",
     "text": [
      "Epoch 1: Loss = 0.6823, Val Acc = 0.5190\n"
     ]
    },
    {
     "name": "stderr",
     "output_type": "stream",
     "text": [
      "Epoch 2/3: 100%|██████████| 25/25 [00:08<00:00,  2.96it/s]\n"
     ]
    },
    {
     "name": "stdout",
     "output_type": "stream",
     "text": [
      "Epoch 2: Loss = 0.5552, Val Acc = 0.8450\n"
     ]
    },
    {
     "name": "stderr",
     "output_type": "stream",
     "text": [
      "Epoch 3/3: 100%|██████████| 25/25 [00:08<00:00,  2.96it/s]\n"
     ]
    },
    {
     "name": "stdout",
     "output_type": "stream",
     "text": [
      "Epoch 3: Loss = 0.2687, Val Acc = 0.8790\n",
      "Accuracy: 0.8790, F1: 0.8789\n",
      "\n",
      "Training with 500 random samples...\n"
     ]
    },
    {
     "name": "stderr",
     "output_type": "stream",
     "text": [
      "Epoch 1/3: 100%|██████████| 32/32 [00:10<00:00,  3.02it/s]\n"
     ]
    },
    {
     "name": "stdout",
     "output_type": "stream",
     "text": [
      "Epoch 1: Loss = 0.5622, Val Acc = 0.7850\n"
     ]
    },
    {
     "name": "stderr",
     "output_type": "stream",
     "text": [
      "Epoch 2/3: 100%|██████████| 32/32 [00:10<00:00,  3.02it/s]\n"
     ]
    },
    {
     "name": "stdout",
     "output_type": "stream",
     "text": [
      "Epoch 2: Loss = 0.2858, Val Acc = 0.8925\n"
     ]
    },
    {
     "name": "stderr",
     "output_type": "stream",
     "text": [
      "Epoch 3/3: 100%|██████████| 32/32 [00:10<00:00,  3.02it/s]\n"
     ]
    },
    {
     "name": "stdout",
     "output_type": "stream",
     "text": [
      "Epoch 3: Loss = 0.1549, Val Acc = 0.8850\n",
      "Accuracy: 0.8925, F1: 0.8925\n"
     ]
    }
   ],
   "source": [
    "# ====================================================================\n",
    "# 7. COMPARISON WITH RANDOM SAMPLING (BASELINE)\n",
    "# ====================================================================\n",
    "\n",
    "def random_sampling_baseline(train_texts, train_labels, test_texts, test_labels,\n",
    "                           sample_sizes=[100, 200, 300, 400, 500]):\n",
    "    \"\"\"\n",
    "    Random sampling baseline for comparison\n",
    "    \"\"\"\n",
    "    tokenizer = AutoTokenizer.from_pretrained('bert-base-uncased')\n",
    "    test_dataset = TextDataset(test_texts, test_labels, tokenizer)\n",
    "    test_loader = DataLoader(test_dataset, batch_size=32, shuffle=False)\n",
    "    \n",
    "    baseline_results = {'size': [], 'accuracy': [], 'f1_score': []}\n",
    "    \n",
    "    for size in sample_sizes:\n",
    "        print(f\"\\nTraining with {size} random samples...\")\n",
    "        \n",
    "        # Random sample\n",
    "        indices = list(range(len(train_texts)))\n",
    "        random.shuffle(indices)\n",
    "        selected_indices = indices[:size]\n",
    "        \n",
    "        sample_texts = [train_texts[i] for i in selected_indices]\n",
    "        sample_labels = [train_labels[i] for i in selected_indices]\n",
    "        \n",
    "        # Train model\n",
    "        model = BERTClassifier().to(device)\n",
    "        dataset = TextDataset(sample_texts, sample_labels, tokenizer)\n",
    "        loader = DataLoader(dataset, batch_size=16, shuffle=True)\n",
    "        \n",
    "        model = train_model(model, loader, test_loader, epochs=3)\n",
    "        \n",
    "        # Evaluate\n",
    "        accuracy = evaluate_model(model, test_loader)\n",
    "        \n",
    "        # Calculate F1\n",
    "        model.eval()\n",
    "        predictions, true_labels = [], []\n",
    "        with torch.no_grad():\n",
    "            for batch in test_loader:\n",
    "                input_ids = batch['input_ids'].to(device)\n",
    "                attention_mask = batch['attention_mask'].to(device)\n",
    "                labels = batch['label'].to(device)\n",
    "                \n",
    "                logits = model(input_ids, attention_mask)\n",
    "                preds = torch.argmax(logits, dim=1)\n",
    "                \n",
    "                predictions.extend(preds.cpu().numpy())\n",
    "                true_labels.extend(labels.cpu().numpy())\n",
    "        \n",
    "        f1 = f1_score(true_labels, predictions, average='weighted')\n",
    "        \n",
    "        baseline_results['size'].append(size)\n",
    "        baseline_results['accuracy'].append(accuracy)\n",
    "        baseline_results['f1_score'].append(f1)\n",
    "        \n",
    "        print(f\"Accuracy: {accuracy:.4f}, F1: {f1:.4f}\")\n",
    "    \n",
    "    return baseline_results\n",
    "\n",
    "# Run baseline comparison\n",
    "baseline_results = random_sampling_baseline(\n",
    "    train_texts, train_labels, test_texts, test_labels,\n",
    "    sample_sizes=[100, 200, 300, 400, 500]\n",
    ")"
   ]
  },
  {
   "cell_type": "code",
   "execution_count": 20,
   "metadata": {},
   "outputs": [
    {
     "data": {
      "image/png": "[encoded data removed]",
      "text/plain": [
       "<Figure size 1200x800 with 2 Axes>"
      ]
     },
     "metadata": {},
     "output_type": "display_data"
    },
    {
     "name": "stdout",
     "output_type": "stream",
     "text": [
      "\\n============================================================\n",
      "BERT ACTIVE LEARNING EXPERIMENT COMPLETED!\n",
      "============================================================\n",
      "Final Active Learning Accuracy: 0.8745\n",
      "Random Sampling Accuracy (500 samples): 0.8925\n",
      "Sample Efficiency Gain: 2.06%\n",
      "\\nResults saved to CSV files!\n"
     ]
    }
   ],
   "source": [
    "# ====================================================================\n",
    "# 8. FINAL COMPARISON PLOT\n",
    "# ====================================================================\n",
    "\n",
    "# Plot comparison\n",
    "plt.figure(figsize=(12, 8))\n",
    "\n",
    "# Active Learning curve\n",
    "plt.subplot(2, 1, 1)\n",
    "plt.plot(results_df['labeled_size'], results_df['accuracy'], 'b-o', \n",
    "         linewidth=2, markersize=8, label='Active Learning (Uncertainty)')\n",
    "plt.plot(baseline_results['size'], baseline_results['accuracy'], 'r--s', \n",
    "         linewidth=2, markersize=8, label='Random Sampling')\n",
    "plt.xlabel('Number of Labeled Samples')\n",
    "plt.ylabel('Test Accuracy')\n",
    "plt.title('BERT Classification: Active Learning vs Random Sampling')\n",
    "plt.legend()\n",
    "plt.grid(True, alpha=0.3)\n",
    "\n",
    "# F1 Score comparison\n",
    "plt.subplot(2, 1, 2)\n",
    "plt.plot(results_df['labeled_size'], results_df['f1_score'], 'b-o', \n",
    "         linewidth=2, markersize=8, label='Active Learning (Uncertainty)')\n",
    "plt.plot(baseline_results['size'], baseline_results['f1_score'], 'r--s', \n",
    "         linewidth=2, markersize=8, label='Random Sampling')\n",
    "plt.xlabel('Number of Labeled Samples')\n",
    "plt.ylabel('Test F1 Score')\n",
    "plt.title('BERT Classification: F1 Score Comparison')\n",
    "plt.legend()\n",
    "plt.grid(True, alpha=0.3)\n",
    "\n",
    "plt.tight_layout()\n",
    "plt.show()\n",
    "\n",
    "print(\"\\\\n\" + \"=\"*60)\n",
    "print(\"BERT ACTIVE LEARNING EXPERIMENT COMPLETED!\")\n",
    "print(\"=\"*60)\n",
    "print(f\"Final Active Learning Accuracy: {results_df['accuracy'].iloc[-1]:.4f}\")\n",
    "print(f\"Random Sampling Accuracy (500 samples): {baseline_results['accuracy'][-1]:.4f}\")\n",
    "print(f\"Sample Efficiency Gain: {((baseline_results['accuracy'][-1] - results_df['accuracy'].iloc[-1]) / results_df['accuracy'].iloc[-1] * 100):.2f}%\")\n",
    "\n",
    "# Save results\n",
    "results_df.to_csv('bert_active_learning_results.csv', index=False)\n",
    "pd.DataFrame(baseline_results).to_csv('bert_random_sampling_results.csv', index=False)\n",
    "print(\"\\\\nResults saved to CSV files!\")"
   ]
  }
 ],
 "metadata": {
  "kernelspec": {
   "display_name": "playground_env",
   "language": "python",
   "name": "python3"
  },
  "language_info": {
   "codemirror_mode": {
    "name": "ipython",
    "version": 3
   },
   "file_extension": ".py",
   "mimetype": "text/x-python",
   "name": "python",
   "nbconvert_exporter": "python",
   "pygments_lexer": "ipython3",
   "version": "3.10.18"
  }
 },
 "nbformat": 4,
 "nbformat_minor": 2
}
